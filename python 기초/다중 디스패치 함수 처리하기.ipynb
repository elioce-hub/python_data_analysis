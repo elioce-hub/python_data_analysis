{
 "cells": [
  {
   "cell_type": "markdown",
   "metadata": {},
   "source": [
    "# 동일한 함수 이름으로 다양한 함수를 처리하기 \n",
    "\n",
    "\n",
    "   함수형 프로그램 처럼 동일한 함수이지만 함수의 매개변수가 차이가 있을 때 \n",
    "   이를 동일한 함수를 이용해서 처리할 수 있는 구조를 만든다.\n",
    "   \n",
    "   multipleddispatch 모듈에서 dispatch를 데코레이터로 사용하면 각 타입에 따른 것을 등록해서 사용할 수 있다\n",
    "   \n",
    "       다중 디스패치 (일명 multimethods, 일반 함수 및 함수 오버로드)는 호출 인수에 따라 실행할 여러 함수 본문 중에서 선택합니다.\n",
    "\n",
    "    "
   ]
  },
  {
   "cell_type": "code",
   "execution_count": 1,
   "metadata": {
    "collapsed": false
   },
   "outputs": [
    {
     "name": "stdout",
     "output_type": "stream",
     "text": [
      "Requirement already up-to-date: multipledispatch in c:\\programdata\\anaconda3\\lib\\site-packages\n"
     ]
    }
   ],
   "source": [
    "!pip install multipledispatch --upgrade"
   ]
  },
  {
   "cell_type": "code",
   "execution_count": 60,
   "metadata": {
    "collapsed": false
   },
   "outputs": [],
   "source": [
    "from multipledispatch import dispatch\n",
    "\n",
    "@dispatch(int, int)\n",
    "def add(x, y):\n",
    "    print(\" int add call \")\n",
    "    return x + y    \n",
    "\n",
    "@dispatch(str, str)\n",
    "def add(x, y):\n",
    "    print(\" string  add call \")\n",
    "    return \"%s + %s\" % (x, y)\n",
    "\n",
    "@dispatch(list, list)\n",
    "def add(x, y):\n",
    "    print(\" list  add call \")\n",
    "    return x + y\n",
    "\n",
    "@dispatch(dict, dict)\n",
    "def add(x, y):\n",
    "    print(\" dict  add call \")\n",
    "    x.update(y)\n",
    "    return x\n"
   ]
  },
  {
   "cell_type": "code",
   "execution_count": 61,
   "metadata": {
    "collapsed": false
   },
   "outputs": [
    {
     "name": "stdout",
     "output_type": "stream",
     "text": [
      " int add call \n",
      "10\n",
      " string  add call \n",
      "a + b\n",
      " list  add call \n",
      "[1, 2, 3, 4, 5, 6]\n",
      " dict  add call \n",
      "{'a': 10, 'b': [4, 5, 6]}\n"
     ]
    }
   ],
   "source": [
    "print(add(5,5))\n",
    "print(add(\"a\",\"b\"))\n",
    "\n",
    "print(add([1,2,3],[4,5,6]))\n",
    "print(add({\"a\": 10},{'b': [4,5,6]}))"
   ]
  },
  {
   "cell_type": "code",
   "execution_count": 10,
   "metadata": {
    "collapsed": false
   },
   "outputs": [
    {
     "data": {
      "text/plain": [
       "['__annotations__',\n",
       " '__call__',\n",
       " '__class__',\n",
       " '__closure__',\n",
       " '__code__',\n",
       " '__defaults__',\n",
       " '__delattr__',\n",
       " '__dict__',\n",
       " '__dir__',\n",
       " '__doc__',\n",
       " '__eq__',\n",
       " '__format__',\n",
       " '__ge__',\n",
       " '__get__',\n",
       " '__getattribute__',\n",
       " '__globals__',\n",
       " '__gt__',\n",
       " '__hash__',\n",
       " '__init__',\n",
       " '__init_subclass__',\n",
       " '__kwdefaults__',\n",
       " '__le__',\n",
       " '__lt__',\n",
       " '__module__',\n",
       " '__name__',\n",
       " '__ne__',\n",
       " '__new__',\n",
       " '__qualname__',\n",
       " '__reduce__',\n",
       " '__reduce_ex__',\n",
       " '__repr__',\n",
       " '__setattr__',\n",
       " '__sizeof__',\n",
       " '__str__',\n",
       " '__subclasshook__']"
      ]
     },
     "execution_count": 10,
     "metadata": {},
     "output_type": "execute_result"
    }
   ],
   "source": [
    "dir(dispatch)"
   ]
  },
  {
   "cell_type": "code",
   "execution_count": 11,
   "metadata": {
    "collapsed": false
   },
   "outputs": [
    {
     "name": "stdout",
     "output_type": "stream",
     "text": [
      "Help on function dispatch in module multipledispatch.core:\n",
      "\n",
      "dispatch(*types, **kwargs)\n",
      "    Dispatch function on the types of the inputs\n",
      "    \n",
      "    Supports dispatch on all non-keyword arguments.\n",
      "    \n",
      "    Collects implementations based on the function name.  Ignores namespaces.\n",
      "    \n",
      "    If ambiguous type signatures occur a warning is raised when the function is\n",
      "    defined suggesting the additional method to break the ambiguity.\n",
      "    \n",
      "    Examples\n",
      "    --------\n",
      "    \n",
      "    >>> @dispatch(int)\n",
      "    ... def f(x):\n",
      "    ...     return x + 1\n",
      "    \n",
      "    >>> @dispatch(float)\n",
      "    ... def f(x):\n",
      "    ...     return x - 1\n",
      "    \n",
      "    >>> f(3)\n",
      "    4\n",
      "    >>> f(3.0)\n",
      "    2.0\n",
      "    \n",
      "    Specify an isolated namespace with the namespace keyword argument\n",
      "    \n",
      "    >>> my_namespace = dict()\n",
      "    >>> @dispatch(int, namespace=my_namespace)\n",
      "    ... def foo(x):\n",
      "    ...     return x + 1\n",
      "    \n",
      "    Dispatch on instance methods within classes\n",
      "    \n",
      "    >>> class MyClass(object):\n",
      "    ...     @dispatch(list)\n",
      "    ...     def __init__(self, data):\n",
      "    ...         self.data = data\n",
      "    ...     @dispatch(int)\n",
      "    ...     def __init__(self, datum):\n",
      "    ...         self.data = [datum]\n",
      "\n"
     ]
    }
   ],
   "source": [
    "help(dispatch)"
   ]
  },
  {
   "cell_type": "markdown",
   "metadata": {},
   "source": [
    "### 디스 패치를 만들면 하나의  클래스를 만들어 준다.\n",
    "\n",
    "    실제함수는 funcs 내부에 보관되어 있다.\n",
    "    "
   ]
  },
  {
   "cell_type": "code",
   "execution_count": 19,
   "metadata": {
    "collapsed": false
   },
   "outputs": [
    {
     "name": "stdout",
     "output_type": "stream",
     "text": [
      "{'foo': <dispatched foo>}\n"
     ]
    }
   ],
   "source": [
    "my_namespace = dict()\n",
    "@dispatch(int, namespace=my_namespace)\n",
    "def foo(x):\n",
    "    return x + 1\n",
    "@dispatch(float, namespace=my_namespace)\n",
    "def foo(x):\n",
    "    return x + 1\n",
    "\n",
    "print(my_namespace)\n"
   ]
  },
  {
   "cell_type": "code",
   "execution_count": 20,
   "metadata": {
    "collapsed": false
   },
   "outputs": [
    {
     "data": {
      "text/plain": [
       "multipledispatch.dispatcher.Dispatcher"
      ]
     },
     "execution_count": 20,
     "metadata": {},
     "output_type": "execute_result"
    }
   ],
   "source": [
    "type(my_namespace['foo'])"
   ]
  },
  {
   "cell_type": "code",
   "execution_count": 15,
   "metadata": {
    "collapsed": false
   },
   "outputs": [
    {
     "data": {
      "text/plain": [
       "{(int,): <function __main__.foo>, (float,): <function __main__.foo>}"
      ]
     },
     "execution_count": 15,
     "metadata": {},
     "output_type": "execute_result"
    }
   ],
   "source": [
    "my_namespace['foo'].funcs"
   ]
  },
  {
   "cell_type": "code",
   "execution_count": 18,
   "metadata": {
    "collapsed": false
   },
   "outputs": [
    {
     "data": {
      "text/plain": [
       "['__call__',\n",
       " '__class__',\n",
       " '__delattr__',\n",
       " '__dir__',\n",
       " '__doc__',\n",
       " '__eq__',\n",
       " '__format__',\n",
       " '__ge__',\n",
       " '__getattribute__',\n",
       " '__getstate__',\n",
       " '__gt__',\n",
       " '__hash__',\n",
       " '__init__',\n",
       " '__init_subclass__',\n",
       " '__le__',\n",
       " '__lt__',\n",
       " '__module__',\n",
       " '__name__',\n",
       " '__ne__',\n",
       " '__new__',\n",
       " '__reduce__',\n",
       " '__reduce_ex__',\n",
       " '__repr__',\n",
       " '__setattr__',\n",
       " '__setstate__',\n",
       " '__sizeof__',\n",
       " '__slots__',\n",
       " '__str__',\n",
       " '__subclasshook__',\n",
       " '_cache',\n",
       " '_help',\n",
       " '_source',\n",
       " 'add',\n",
       " 'dispatch',\n",
       " 'dispatch_iter',\n",
       " 'doc',\n",
       " 'funcs',\n",
       " 'help',\n",
       " 'name',\n",
       " 'ordering',\n",
       " 'register',\n",
       " 'reorder',\n",
       " 'resolve',\n",
       " 'source']"
      ]
     },
     "execution_count": 18,
     "metadata": {},
     "output_type": "execute_result"
    }
   ],
   "source": [
    "dir(my_namespace['foo'])"
   ]
  },
  {
   "cell_type": "code",
   "execution_count": 68,
   "metadata": {
    "collapsed": false
   },
   "outputs": [],
   "source": [
    "from multipledispatch import dispatch\n",
    "\n",
    "nm = {}\n",
    "\n",
    "class MyClass(object):\n",
    "    \n",
    "    @dispatch(object,int,namespace=nm)\n",
    "    def __call__(cls,x):\n",
    "        return \" Class call \"\n",
    "    \n",
    "    @dispatch(object,str, namespace=nm)\n",
    "    def __call__(self, x):\n",
    "        return \" instace call \" +x"
   ]
  },
  {
   "cell_type": "code",
   "execution_count": 66,
   "metadata": {
    "collapsed": false
   },
   "outputs": [
    {
     "name": "stdout",
     "output_type": "stream",
     "text": [
      "<__main__.MyClass object at 0x0000000004C51358>\n",
      " instace call str\n",
      " Class call \n"
     ]
    }
   ],
   "source": [
    "my = MyClass()\n",
    "print(my)\n",
    "print(my(my,\"str\"))\n",
    "print(my(MyClass,10))"
   ]
  },
  {
   "cell_type": "code",
   "execution_count": 67,
   "metadata": {
    "collapsed": false
   },
   "outputs": [
    {
     "data": {
      "text/plain": [
       "{(object, int): <function __main__.MyClass.__call__>,\n",
       " (object, str): <function __main__.MyClass.__call__>}"
      ]
     },
     "execution_count": 67,
     "metadata": {},
     "output_type": "execute_result"
    }
   ],
   "source": [
    "nm['__call__'].funcs"
   ]
  },
  {
   "cell_type": "code",
   "execution_count": 69,
   "metadata": {
    "collapsed": true
   },
   "outputs": [],
   "source": [
    "import multipledispatch"
   ]
  },
  {
   "cell_type": "code",
   "execution_count": 71,
   "metadata": {
    "collapsed": false
   },
   "outputs": [
    {
     "data": {
      "text/plain": [
       "['Dispatcher',\n",
       " 'MDNotImplementedError',\n",
       " '__builtins__',\n",
       " '__cached__',\n",
       " '__doc__',\n",
       " '__file__',\n",
       " '__loader__',\n",
       " '__name__',\n",
       " '__package__',\n",
       " '__path__',\n",
       " '__spec__',\n",
       " '__version__',\n",
       " 'conflict',\n",
       " 'core',\n",
       " 'dispatch',\n",
       " 'dispatcher',\n",
       " 'halt_ordering',\n",
       " 'restart_ordering',\n",
       " 'utils']"
      ]
     },
     "execution_count": 71,
     "metadata": {},
     "output_type": "execute_result"
    }
   ],
   "source": [
    "import multipledispatch\n",
    "dir(multipledispatch)"
   ]
  },
  {
   "cell_type": "code",
   "execution_count": null,
   "metadata": {
    "collapsed": true
   },
   "outputs": [],
   "source": []
  }
 ],
 "metadata": {
  "kernelspec": {
   "display_name": "Python 3",
   "language": "python",
   "name": "python3"
  },
  "language_info": {
   "codemirror_mode": {
    "name": "ipython",
    "version": 3
   },
   "file_extension": ".py",
   "mimetype": "text/x-python",
   "name": "python",
   "nbconvert_exporter": "python",
   "pygments_lexer": "ipython3",
   "version": "3.6.0"
  }
 },
 "nbformat": 4,
 "nbformat_minor": 1
}
