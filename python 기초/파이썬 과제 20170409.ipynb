{
 "cells": [
  {
   "cell_type": "markdown",
   "metadata": {},
   "source": [
    "# 문제 1.  \n",
    "\n",
    "    문제: 세수를 입력 받아 평균을 구한다\n",
    "\n",
    "    1. 세수를 입력받아  N,K,J 변수에 저장한다.\n",
    "    \n",
    "    2. 세수의 합을 구하고, 세수의 개수로 나눠 평균을 구한다.\n",
    "    \n",
    "    3. 세수의 평균을 출력한다.\n",
    "                "
   ]
  },
  {
   "cell_type": "code",
   "execution_count": 4,
   "metadata": {
    "collapsed": false
   },
   "outputs": [
    {
     "name": "stdout",
     "output_type": "stream",
     "text": [
      " N 을 입력받는다.10\n",
      " K 을 입력받는다.20\n",
      " J 을 입력받는다.30\n",
      "20.0\n"
     ]
    }
   ],
   "source": [
    "N = int(input(\" N 을 입력받는다.\"))\n",
    "K = int(input(\" K 을 입력받는다.\"))\n",
    "J = int(input(\" J 을 입력받는다.\"))\n",
    "\n",
    "total = N + K + J\n",
    "average = total/3\n",
    "\n",
    "print(average)\n",
    "\n"
   ]
  },
  {
   "cell_type": "markdown",
   "metadata": {},
   "source": [
    "\n",
    "# 문제2. \n",
    "\n",
    "    1. NS chart를 그리세요\n",
    "    \n",
    "    2. 알고리즘 \n",
    "\n",
    "       - 세 개의 값(N,K,J)을 입력 받아서 가장 작은 값을 출력\n",
    "            Enter a number: 3\n",
    "            Enter a number: 2\n",
    "            Enter a number: 9\n",
    "            \n",
    "       - 두 수를 비교해서 작은 수를 small 변수에 할당하고, small변수와 세번째 수를 비교해서 작을 경우는 small을 처리하고\n",
    "         크면 small에 J를 할당한다\n",
    "         \n",
    "       - 가장 작은 수를 출력한다.\n",
    "          The smallest number is 2\n",
    "\n"
   ]
  },
  {
   "cell_type": "code",
   "execution_count": 8,
   "metadata": {
    "collapsed": false
   },
   "outputs": [
    {
     "name": "stdout",
     "output_type": "stream",
     "text": [
      " N 을 입력받는다.3\n",
      " K 을 입력받는다.2\n",
      " J 을 입력받는다.9\n",
      "The smallest number is  2\n"
     ]
    }
   ],
   "source": [
    "N = int(input(\" N 을 입력받는다.\"))\n",
    "K = int(input(\" K 을 입력받는다.\"))\n",
    "J = int(input(\" J 을 입력받는다.\"))\n",
    "\n",
    "small = 0\n",
    "if (N < K) :\n",
    "    small = N\n",
    "else :\n",
    "    small = K\n",
    "    \n",
    "if  small < J :\n",
    "    pass\n",
    "else :\n",
    "    small = J\n",
    "    \n",
    "\n",
    "print(\"The smallest number is \", small) "
   ]
  },
  {
   "cell_type": "code",
   "execution_count": 7,
   "metadata": {
    "collapsed": false
   },
   "outputs": [],
   "source": [
    "!cd ./Documents"
   ]
  },
  {
   "cell_type": "code",
   "execution_count": 8,
   "metadata": {
    "collapsed": false
   },
   "outputs": [
    {
     "data": {
      "text/plain": [
       "'/Users/MoonYongJoon'"
      ]
     },
     "execution_count": 8,
     "metadata": {},
     "output_type": "execute_result"
    }
   ],
   "source": [
    "import os\n",
    "\n",
    "os.getcwd()"
   ]
  },
  {
   "cell_type": "code",
   "execution_count": null,
   "metadata": {
    "collapsed": true
   },
   "outputs": [],
   "source": []
  }
 ],
 "metadata": {
  "kernelspec": {
   "display_name": "Python [conda root]",
   "language": "python",
   "name": "conda-root-py"
  },
  "language_info": {
   "codemirror_mode": {
    "name": "ipython",
    "version": 3
   },
   "file_extension": ".py",
   "mimetype": "text/x-python",
   "name": "python",
   "nbconvert_exporter": "python",
   "pygments_lexer": "ipython3",
   "version": "3.5.2"
  }
 },
 "nbformat": 4,
 "nbformat_minor": 2
}
