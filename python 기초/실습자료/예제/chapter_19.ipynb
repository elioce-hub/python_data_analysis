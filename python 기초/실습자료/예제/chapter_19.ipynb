{
 "cells": [
  {
   "cell_type": "markdown",
   "metadata": {},
   "source": [
    "## 예제 19-1-1 예외처리하기"
   ]
  },
  {
   "cell_type": "code",
   "execution_count": null,
   "metadata": {},
   "outputs": [],
   "source": []
  },
  {
   "cell_type": "code",
   "execution_count": 52,
   "metadata": {},
   "outputs": [
    {
     "name": "stdout",
     "output_type": "stream",
     "text": [
      "<class 'NameError'> (\"name 'a' is not defined\",)\n"
     ]
    }
   ],
   "source": [
    "try :\n",
    "    a = a + 1\n",
    "except NameError as e :\n",
    "    print(type(e),e.args)\n",
    "except Exception as e :\n",
    "    print(type(e),e.args)"
   ]
  },
  {
   "cell_type": "code",
   "execution_count": null,
   "metadata": {},
   "outputs": [],
   "source": []
  },
  {
   "cell_type": "code",
   "execution_count": 7,
   "metadata": {},
   "outputs": [],
   "source": [
    "def func(x) :\n",
    "    y = y + x\n",
    "    return y"
   ]
  },
  {
   "cell_type": "code",
   "execution_count": 9,
   "metadata": {},
   "outputs": [
    {
     "name": "stdout",
     "output_type": "stream",
     "text": [
      "<class 'UnboundLocalError'> (\"local variable 'y' referenced before assignment\",)\n"
     ]
    }
   ],
   "source": [
    "try :\n",
    "    func(100)\n",
    "except UnboundLocalError as e :\n",
    "    print(type(e),e.args)\n",
    "except Exception as e :\n",
    "    print(type(e),e.args)"
   ]
  },
  {
   "cell_type": "code",
   "execution_count": null,
   "metadata": {},
   "outputs": [],
   "source": []
  },
  {
   "cell_type": "code",
   "execution_count": 12,
   "metadata": {},
   "outputs": [
    {
     "name": "stdout",
     "output_type": "stream",
     "text": [
      "<class 'SyntaxError'> ('예외발생',)\n"
     ]
    }
   ],
   "source": [
    "try :\n",
    "    raise SyntaxError(\"예외발생\")\n",
    "except SyntaxError as e :\n",
    "    print(type(e),e.args)\n",
    "except Exception as e :\n",
    "    print(\"E :\", type(e),e.args)"
   ]
  },
  {
   "cell_type": "code",
   "execution_count": null,
   "metadata": {},
   "outputs": [],
   "source": []
  },
  {
   "cell_type": "code",
   "execution_count": 13,
   "metadata": {},
   "outputs": [
    {
     "name": "stdout",
     "output_type": "stream",
     "text": [
      "<class 'SyntaxError'> ('예외발생',)\n",
      " 무조건 처리 됩니다. \n"
     ]
    }
   ],
   "source": [
    "try :\n",
    "    raise SyntaxError(\"예외발생\")\n",
    "except SyntaxError as e :\n",
    "    print(type(e),e.args)\n",
    "except Exception as e :\n",
    "    print(\"E :\", type(e),e.args)\n",
    "else :\n",
    "    print(\" 정상으로 처리 되었습니다. \")\n",
    "finally :\n",
    "    print(\" 무조건 처리 됩니다. \")"
   ]
  },
  {
   "cell_type": "code",
   "execution_count": null,
   "metadata": {},
   "outputs": [],
   "source": []
  },
  {
   "cell_type": "code",
   "execution_count": 14,
   "metadata": {},
   "outputs": [
    {
     "name": "stdout",
     "output_type": "stream",
     "text": [
      "예외가 없습니다. \n",
      " 정상으로 처리 되었습니다. \n",
      " 무조건 처리 됩니다. \n"
     ]
    }
   ],
   "source": [
    "try :\n",
    "    print(\"예외가 없습니다. \")\n",
    "except SyntaxError as e :\n",
    "    print(type(e),e.args)\n",
    "except Exception as e :\n",
    "    print(\"E :\", type(e),e.args)\n",
    "else :\n",
    "    print(\" 정상으로 처리 되었습니다. \")\n",
    "finally :\n",
    "    print(\" 무조건 처리 됩니다. \")"
   ]
  },
  {
   "cell_type": "code",
   "execution_count": null,
   "metadata": {},
   "outputs": [],
   "source": []
  },
  {
   "cell_type": "markdown",
   "metadata": {},
   "source": [
    "## 예제 20-1-1 예외처리하기"
   ]
  },
  {
   "cell_type": "code",
   "execution_count": 15,
   "metadata": {},
   "outputs": [],
   "source": [
    "import warnings"
   ]
  },
  {
   "cell_type": "code",
   "execution_count": 16,
   "metadata": {},
   "outputs": [],
   "source": [
    "def add(x,y) :\n",
    "    warnings.warn(\" 이 함수는 정수만 입력해야 합니다. \")\n",
    "    return x+y"
   ]
  },
  {
   "cell_type": "code",
   "execution_count": null,
   "metadata": {},
   "outputs": [],
   "source": []
  },
  {
   "cell_type": "code",
   "execution_count": 17,
   "metadata": {},
   "outputs": [
    {
     "name": "stderr",
     "output_type": "stream",
     "text": [
      "C:\\Users\\John\\Anaconda3\\lib\\site-packages\\ipykernel_launcher.py:2: UserWarning:  이 함수는 정수만 입력해야 합니다. \n",
      "  \n"
     ]
    },
    {
     "data": {
      "text/plain": [
       "200"
      ]
     },
     "execution_count": 17,
     "metadata": {},
     "output_type": "execute_result"
    }
   ],
   "source": [
    "add(100,100)"
   ]
  },
  {
   "cell_type": "code",
   "execution_count": null,
   "metadata": {},
   "outputs": [],
   "source": []
  }
 ],
 "metadata": {
  "kernelspec": {
   "display_name": "Python 3",
   "language": "python",
   "name": "python3"
  },
  "language_info": {
   "codemirror_mode": {
    "name": "ipython",
    "version": 3
   },
   "file_extension": ".py",
   "mimetype": "text/x-python",
   "name": "python",
   "nbconvert_exporter": "python",
   "pygments_lexer": "ipython3",
   "version": "3.6.7"
  }
 },
 "nbformat": 4,
 "nbformat_minor": 2
}
