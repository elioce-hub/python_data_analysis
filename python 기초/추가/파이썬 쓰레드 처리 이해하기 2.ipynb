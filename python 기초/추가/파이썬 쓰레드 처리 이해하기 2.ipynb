{
 "cells": [
  {
   "cell_type": "code",
   "execution_count": null,
   "metadata": {
    "collapsed": false
   },
   "outputs": [],
   "source": [
    "import threading\n",
    "\n",
    "count = 0\n",
    "class Thread(threading.Thread):\n",
    "    def __init__(self, t, *args):\n",
    "        threading.Thread.__init__(self, target=t, args=args)\n",
    "        self.start()\n",
    "        \n",
    "def hello_there():\n",
    "    global count\n",
    "    while count < 5:\n",
    "        print(\"hello_there \", threading.current_thread())\n",
    "        count += 1\n",
    "        \n",
    "def main():    \n",
    "    hello = Thread(hello_there)\n",
    "\n",
    "if __name__ == '__main__':\n",
    "    main()"
   ]
  },
  {
   "cell_type": "code",
   "execution_count": null,
   "metadata": {
    "collapsed": false
   },
   "outputs": [],
   "source": [
    "import threading\n",
    "import time\n",
    "\n",
    "def countdown(n):\n",
    "    start = time.time()\n",
    "    print(\"countdown thread \", threading.current_thread())\n",
    "    while n > 0:\n",
    "        n -= 1\n",
    "    end = time.time()\n",
    "    print(\" exec \", float(end) - float(start))\n",
    "    return n\n",
    "\n",
    "COUNT = 100000000 # 100 million\n",
    "     \n",
    "t1 = threading.Thread(target=countdown,args=(COUNT//2,))\n",
    "t2 = threading.Thread(target=countdown,args=(COUNT//2,))\n",
    "t1.start()\n",
    "t2.start()\n",
    "t1.join() \n",
    "t2.join()"
   ]
  },
  {
   "cell_type": "code",
   "execution_count": null,
   "metadata": {
    "collapsed": false
   },
   "outputs": [],
   "source": [
    "import time\n",
    "\n",
    "def countdown(n):\n",
    "    start = time.time()\n",
    "    print(\"countdown thread \", threading.current_thread())\n",
    "    while n > 0:\n",
    "        n -= 1\n",
    "    end = time.time()\n",
    "    print(\" exec \", float(end) - float(start))\n",
    "    return n\n",
    "\n",
    "COUNT = 100000000 # 100 million\n",
    "countdown(COUNT) "
   ]
  },
  {
   "cell_type": "code",
   "execution_count": null,
   "metadata": {
    "collapsed": false
   },
   "outputs": [],
   "source": [
    "import that"
   ]
  },
  {
   "cell_type": "code",
   "execution_count": null,
   "metadata": {
    "collapsed": false
   },
   "outputs": [],
   "source": [
    "import threading\n",
    "import time\n",
    "import inspect\n",
    "\n",
    "count = 0\n",
    "class Thread(threading.Thread):\n",
    "    def __init__(self, t, *args):\n",
    "        threading.Thread.__init__(self, target=t, args=args)\n",
    "        self.start()\n",
    "        \n",
    "def incre():\n",
    "    global count\n",
    "    caller = inspect.getouterframes(inspect.currentframe())[1][3]\n",
    "    print(\"Inside %s()\" % caller)\n",
    "    count += 1 \n",
    "\n",
    "def bye():\n",
    "    while count < 5:\n",
    "        print(\"bye\", threading.current_thread())\n",
    "        incre()\n",
    "        \n",
    "def hello_there():\n",
    "    while count < 5:\n",
    "        print(\"hello_there \", threading.current_thread())\n",
    "        incre()\n",
    "\n",
    "def main():    \n",
    "    hello = Thread(hello_there)\n",
    "    goodbye = Thread(bye)\n",
    "\n",
    "\n",
    "if __name__ == '__main__':\n",
    "    main()"
   ]
  },
  {
   "cell_type": "code",
   "execution_count": null,
   "metadata": {
    "collapsed": false
   },
   "outputs": [],
   "source": [
    "import threading\n",
    "import time\n",
    "import inspect\n",
    "\n",
    "class Thread(threading.Thread):\n",
    "    def __init__(self, t, *args):\n",
    "        threading.Thread.__init__(self, target=t, args=args)\n",
    "        self.start()\n",
    "\n",
    "count = 0\n",
    "lock = threading.Lock()\n",
    "\n",
    "def incre():\n",
    "    global count\n",
    "    caller = inspect.getouterframes(inspect.currentframe())[1][3]\n",
    "    print(\"Inside %s()\" % caller)\n",
    "    print(\"Acquiring lock\")\n",
    "    with lock:\n",
    "        print(\"Lock Acquired\")\n",
    "        count += 1  \n",
    "        time.sleep(2)  \n",
    "\n",
    "def bye():\n",
    "    while count < 5:\n",
    "        incre()\n",
    "\n",
    "def hello_there():\n",
    "    while count < 5:\n",
    "        incre()\n",
    "\n",
    "def main():    \n",
    "    hello = Thread(hello_there)\n",
    "    goodbye = Thread(bye)\n",
    "\n",
    "\n",
    "if __name__ == '__main__':\n",
    "    main()"
   ]
  },
  {
   "cell_type": "code",
   "execution_count": null,
   "metadata": {
    "collapsed": false
   },
   "outputs": [],
   "source": [
    "import threading\n",
    "import time\n",
    "import logging\n",
    "\n",
    "logging.basicConfig(level=logging.DEBUG,\n",
    "                    format='(%(threadName)-9s) %(message)s',)\n",
    "\n",
    "def n():\n",
    "    logging.debug('Starting')\n",
    "    logging.debug('Exiting')\n",
    "\n",
    "def d():\n",
    "    logging.debug('Starting')\n",
    "    time.sleep(5)\n",
    "    logging.debug('Exiting')\n",
    "\n",
    "if __name__ == '__main__':\n",
    "\n",
    "    t = threading.Thread(name='non-daemon', target=n)\n",
    "\n",
    "    d = threading.Thread(name='daemon', target=d)\n",
    "    d.daemon = True\n",
    "\n",
    "    d.start()\n",
    "    t.start()\n",
    "    d.join()\n",
    "    t.join()"
   ]
  },
  {
   "cell_type": "code",
   "execution_count": null,
   "metadata": {
    "collapsed": false
   },
   "outputs": [],
   "source": [
    "import random\n",
    "import time \n",
    "from threading import Thread\n",
    "\n",
    "class MyThread(Thread):\n",
    "    def __init__(self, name):\n",
    "        \"\"\"Initialize the thread\"\"\"\n",
    "        Thread.__init__(self)\n",
    "        self.name = name\n",
    "        self.start()\n",
    " \n",
    "    def run(self):\n",
    "        \"\"\"Run the thread\"\"\"\n",
    "        amount = random.randint(3, 15)\n",
    "        time.sleep(amount)\n",
    "        msg = \"%s has finished!\" % self.name\n",
    "        print(msg)\n",
    " \n",
    "# 함수\n",
    "def create_threads():\n",
    "    for i in range(5):\n",
    "        name = \"Thread #%s\" % (i+1)\n",
    "        my_thread = MyThread(name=name)\n",
    "\n",
    "        \n",
    "if __name__ == \"__main__\":\n",
    "    create_threads()"
   ]
  },
  {
   "cell_type": "code",
   "execution_count": null,
   "metadata": {
    "collapsed": false
   },
   "outputs": [],
   "source": [
    "%%writefile fil.txt\n",
    "aaa,123\n",
    "bbb,456\n"
   ]
  },
  {
   "cell_type": "code",
   "execution_count": null,
   "metadata": {
    "collapsed": false
   },
   "outputs": [],
   "source": [
    "import threading\n",
    "d = {}\n",
    "fd = open('fil.txt')\n",
    "\n",
    "def f(data):\n",
    "    print(\" f exec \", threading.current_thread())\n",
    "    \n",
    "    d[threading.current_thread()] = data\n",
    "        \n",
    "t = []\n",
    "for l in fd:\n",
    "    t.append(threading.Thread(target=f, args=(l,)))\n",
    "    \n",
    "for t1 in t:\n",
    "    t1.start()\n",
    "\n",
    "for t2 in t:\n",
    "    t2.join()\n",
    "print(d)"
   ]
  },
  {
   "cell_type": "code",
   "execution_count": null,
   "metadata": {
    "collapsed": false
   },
   "outputs": [],
   "source": [
    "from threading import Thread\n",
    "\n",
    "class myObject(object):\n",
    "    def __init__(self):\n",
    "        self._val = 1\n",
    "    def get(self):\n",
    "        return self._val\n",
    "    def increment(self):\n",
    "        self._val += 1\n",
    "\n",
    "def t1(ob):\n",
    "    ob.increment()\n",
    "    print('t1:', ob.get())\n",
    "    print('t1:', ob.get() == 2)\n",
    "\n",
    "def t2(ob):\n",
    "    ob.increment()\n",
    "    print('t2:', ob.get())\n",
    "    print('t2:', ob.get() == 2)\n",
    "\n",
    "ob = myObject()\n",
    "\n",
    "# Create two threads modifying the same ob instance\n",
    "thread1 = Thread(target=t1, args=(ob,))\n",
    "thread2 = Thread(target=t2, args=(ob,))\n",
    "\n",
    "# Run the threads\n",
    "thread1.start()\n",
    "thread2.start()\n",
    "thread1.join()\n",
    "thread2.join()"
   ]
  },
  {
   "cell_type": "code",
   "execution_count": null,
   "metadata": {
    "collapsed": false
   },
   "outputs": [],
   "source": [
    "from threading import Thread\n",
    "\n",
    "def myfunc(data):\n",
    "    print(data)\n",
    "    \n",
    "thread1 = Thread(target=myfunc, args=(\"Hello,\",))\n",
    "thread2 = Thread(target=myfunc, args=(\" World!\",))\n",
    "\n",
    "thread1.start()\n",
    "thread2.start()\n",
    "thread1.join()\n",
    "thread2.join()"
   ]
  },
  {
   "cell_type": "code",
   "execution_count": null,
   "metadata": {
    "collapsed": false
   },
   "outputs": [],
   "source": [
    "from threading import Thread\n",
    "for i in dir(Thread) :\n",
    "    if i.startswith(\"_\") :\n",
    "        pass\n",
    "    else :\n",
    "        print(i)"
   ]
  },
  {
   "cell_type": "code",
   "execution_count": 22,
   "metadata": {
    "collapsed": false
   },
   "outputs": [
    {
     "name": "stdout",
     "output_type": "stream",
     "text": [
      "Overwriting multi_test.py\n"
     ]
    }
   ],
   "source": [
    "%%writefile multi_test.py\n",
    "import multiprocessing \n",
    "\n",
    "def f1(x) :\n",
    "    print(\" f1 process\", multiprocessing.current_process())\n",
    "    num = 10\n",
    "    while x.value < num :\n",
    "        print(x.value)\n",
    "        x.value += 1\n",
    "    print(x.value)\n",
    "    \n",
    "def f2(x) :\n",
    "    print(\" f2 process\", multiprocessing.current_process())\n",
    "    \n",
    "    while x.value > 0 :\n",
    "        print(x.value)\n",
    "        x.value -= 1\n",
    "    print(x.value)        \n",
    "    \n",
    "if __name__ == '__main__' :\n",
    "    #shared memory\n",
    "    x = multiprocessing.Value('i', 0)  \n",
    "    th1 = multiprocessing.Process(target=f1, args=(x,))\n",
    "    th2 = multiprocessing.Process(target=f2, args=(x,))\n",
    "    th1.start()\n",
    "    th2.start()\n",
    "    th1.join()\n",
    "    th2.join()\n",
    "    print(x.value)"
   ]
  },
  {
   "cell_type": "code",
   "execution_count": 23,
   "metadata": {
    "collapsed": false
   },
   "outputs": [
    {
     "name": "stdout",
     "output_type": "stream",
     "text": [
      " f1 process <Process(Process-1, started)>\n",
      "0\n",
      "1\n",
      "2\n",
      "3\n",
      "4\n",
      "5\n",
      "6\n",
      "7\n",
      "8\n",
      "9\n",
      "10\n",
      " f2 process <Process(Process-2, started)>\n",
      "10\n",
      "9\n",
      "8\n",
      "7\n",
      "6\n",
      "5\n",
      "4\n",
      "3\n",
      "2\n",
      "1\n",
      "0\n",
      "0\n"
     ]
    }
   ],
   "source": [
    "!python multi_test.py"
   ]
  },
  {
   "cell_type": "code",
   "execution_count": 17,
   "metadata": {
    "collapsed": false
   },
   "outputs": [
    {
     "name": "stdout",
     "output_type": "stream",
     "text": [
      "Help on method Value in module multiprocessing.context:\n",
      "\n",
      "Value(typecode_or_type, *args, lock=True) method of multiprocessing.context.DefaultContext instance\n",
      "    Returns a synchronized shared object\n",
      "\n"
     ]
    }
   ],
   "source": [
    "help(multiprocessing.Value)"
   ]
  },
  {
   "cell_type": "code",
   "execution_count": 1,
   "metadata": {
    "collapsed": false
   },
   "outputs": [
    {
     "name": "stdout",
     "output_type": "stream",
     "text": [
      " f1 thread <Thread(Thread-6, started 10724)>\n",
      "0\n",
      "1\n",
      "2\n",
      "3\n",
      "4\n",
      "5\n",
      "6\n",
      "7\n",
      "8\n",
      "9\n",
      "10\n",
      " f2 thread <Thread(Thread-7, started 1128)>\n",
      "10\n",
      "9\n",
      "8\n",
      "7\n",
      "6\n",
      "5\n",
      "4\n",
      "3\n",
      "2\n",
      "1\n",
      "0\n"
     ]
    }
   ],
   "source": [
    "import threading \n",
    "import queue \n",
    "\n",
    "q = queue.Queue()\n",
    "def f1(num) :\n",
    "    print(\" f1 thread\", threading.current_thread())\n",
    "    x = 0\n",
    "    while x < num :\n",
    "        print(x)\n",
    "        x += 1\n",
    "    q.put(x)\n",
    "    print(x)\n",
    "    \n",
    "def f2() :\n",
    "    print(\" f2 thread\", threading.current_thread())\n",
    "    x = int(q.get())\n",
    "    while x > 0 :\n",
    "        print(x)\n",
    "        x -= 1\n",
    "    print(x)    \n",
    "        \n",
    "th1 = threading.Thread(target=f1, args=(10,))\n",
    "th2 = threading.Thread(target=f2)\n",
    "th1.start()\n",
    "th2.start()\n",
    "th1.join()\n",
    "th2.join()"
   ]
  },
  {
   "cell_type": "code",
   "execution_count": null,
   "metadata": {
    "collapsed": false
   },
   "outputs": [],
   "source": [
    "from threading import Thread\n",
    "import timeit\n",
    "def myfunc(data):\n",
    "    print(data)\n",
    "    \n",
    "thread1 = Thread(target=myfunc, args=(\"Hello,\",))\n",
    "\n",
    "setup = \"\"\"\n",
    "from threading import Thread\n",
    "    \n",
    "thread1 = Thread(target=myfunc, args=(\"Hello,\",))\n",
    "\"\"\"\n",
    "\n",
    "print(timeit.repeat(setup, \"from __main__ import myfunc\",number=100000))\n",
    "thread1.start()\n",
    "print(thread1.name)\n",
    "print(thread1.daemon)\n",
    "print(thread1.ident)\n",
    "thread1.join()"
   ]
  },
  {
   "cell_type": "code",
   "execution_count": null,
   "metadata": {
    "collapsed": false
   },
   "outputs": [],
   "source": [
    "import threading\n",
    "dir(threading)"
   ]
  },
  {
   "cell_type": "code",
   "execution_count": null,
   "metadata": {
    "collapsed": false
   },
   "outputs": [],
   "source": [
    "help(timeit.timeit)"
   ]
  },
  {
   "cell_type": "code",
   "execution_count": null,
   "metadata": {
    "collapsed": false
   },
   "outputs": [],
   "source": [
    "timeit.timeit(\"((([]+[1])+[2])+[3])+[4]\")"
   ]
  },
  {
   "cell_type": "code",
   "execution_count": null,
   "metadata": {
    "collapsed": false
   },
   "outputs": [],
   "source": [
    "def f(x):\n",
    "    return x*x\n",
    "\n",
    "\n",
    "%timeit for x in range(100): f(x)"
   ]
  },
  {
   "cell_type": "code",
   "execution_count": null,
   "metadata": {
    "collapsed": false
   },
   "outputs": [],
   "source": [
    "def f(x):\n",
    "    return x * x \n",
    "\n",
    "import timeit\n",
    "timeit.repeat(\"for x in range(100): f(x)\", \"from __main__ import f\",number=100000)"
   ]
  },
  {
   "cell_type": "code",
   "execution_count": null,
   "metadata": {
    "collapsed": false
   },
   "outputs": [],
   "source": [
    "def f(x):\n",
    "    return x * x\n",
    "timeit.Timer(f,x=100).timeit(number=100)"
   ]
  },
  {
   "cell_type": "code",
   "execution_count": null,
   "metadata": {
    "collapsed": false
   },
   "outputs": [],
   "source": [
    "help(timeit.Timer)"
   ]
  },
  {
   "cell_type": "code",
   "execution_count": null,
   "metadata": {
    "collapsed": false
   },
   "outputs": [],
   "source": [
    "import cv2"
   ]
  },
  {
   "cell_type": "code",
   "execution_count": null,
   "metadata": {
    "collapsed": false
   },
   "outputs": [],
   "source": [
    "!pip install cv2 --upgrade"
   ]
  },
  {
   "cell_type": "code",
   "execution_count": null,
   "metadata": {
    "collapsed": false
   },
   "outputs": [],
   "source": [
    "!conda install -c https://conda.binstar.org/menpo opencv"
   ]
  },
  {
   "cell_type": "code",
   "execution_count": null,
   "metadata": {
    "collapsed": true
   },
   "outputs": [],
   "source": []
  }
 ],
 "metadata": {
  "kernelspec": {
   "display_name": "Python [conda root]",
   "language": "python",
   "name": "conda-root-py"
  },
  "language_info": {
   "codemirror_mode": {
    "name": "ipython",
    "version": 3
   },
   "file_extension": ".py",
   "mimetype": "text/x-python",
   "name": "python",
   "nbconvert_exporter": "python",
   "pygments_lexer": "ipython3",
   "version": "3.5.2"
  }
 },
 "nbformat": 4,
 "nbformat_minor": 1
}
