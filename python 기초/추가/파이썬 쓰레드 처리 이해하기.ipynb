{
 "cells": [
  {
   "cell_type": "markdown",
   "metadata": {},
   "source": [
    "### Thread class로 thread 생성\n",
    "threading.Thread\n",
    "  #### 파라미터 : \n",
    "      name 은 쓰레드 명을 정의하지만 없으면 자동으로 생성됨\n",
    "      target은 처리 함수\n",
    "      args는 함수에 들어갈 인수전달\n",
    "  #### 메소드 : \n",
    "     thread.start() : thread를 start 메소드로 실행시켜야 함\n",
    "     thread.join() : thread를 종료\n",
    "     getName(), setName() : thread name 조회 및 세팅"
   ]
  },
  {
   "cell_type": "code",
   "execution_count": null,
   "metadata": {
    "collapsed": false
   },
   "outputs": [],
   "source": [
    "%%writefile work.py\n",
    "import threading\n",
    "\n",
    "class Worker(threading.Thread):\n",
    "    # Our workers constructor, note the super() method which is vital if we want this\n",
    "    # to function properly\n",
    "    def __init__(self, num):\n",
    "        super(Worker, self).__init__()\n",
    "        self.num = num\n",
    "\n",
    "    def run(self):\n",
    "        print(\" worker num %s \" % (self.num))\n",
    "        for i in range(10):\n",
    "            print(i)\n",
    "        "
   ]
  },
  {
   "cell_type": "code",
   "execution_count": null,
   "metadata": {
    "collapsed": false
   },
   "outputs": [],
   "source": [
    "%%writefile work_thread.py\n",
    "import threading \n",
    "from work import Worker\n",
    "\n",
    "def main():\n",
    "    # This initializes ''thread1'' as an instance of our Worker Thread\n",
    "    thread1 = Worker(1)\n",
    "    thread2 = Worker(2)\n",
    "    thread3 = Worker(3)\n",
    "    # This is the code needed to run our newly created thread\n",
    "    thread1.start()\n",
    "    thread2.start()\n",
    "    thread3.start()\n",
    "\n",
    "if __name__ == \"__main__\":  \n",
    "    main()"
   ]
  },
  {
   "cell_type": "code",
   "execution_count": null,
   "metadata": {
    "collapsed": false
   },
   "outputs": [],
   "source": [
    "!python work_thread.py"
   ]
  },
  {
   "cell_type": "code",
   "execution_count": null,
   "metadata": {
    "collapsed": false
   },
   "outputs": [],
   "source": [
    "import threading\n",
    "\n",
    "def worker():\n",
    "    \"\"\"thread worker function\"\"\"\n",
    "    print('Worker')\n",
    "    return\n",
    "\n",
    "threads = []\n",
    "for i in range(3):\n",
    "    t = threading.Thread(target=worker)\n",
    "    threads.append(t)\n",
    "    t.start()\n",
    "    print(\"thread name \",t.name)   \n",
    "    print(\"thread .ident\", t.ident)\n",
    "    print(\"thread daemon \", t.daemon)\n",
    "    \n",
    "\n",
    "for th in threads:\n",
    "    th.join()"
   ]
  },
  {
   "cell_type": "code",
   "execution_count": null,
   "metadata": {
    "collapsed": false
   },
   "outputs": [],
   "source": [
    "import threading\n",
    "\n",
    "def worker():\n",
    "    \"\"\"thread worker function\"\"\"\n",
    "    print('Worker')\n",
    "    return\n",
    "\n",
    "threads = []\n",
    "for i in range(5):\n",
    "    t = threading.Thread(target=worker)\n",
    "    threads.append(t)\n",
    "    t.start()\n",
    "print(\"threading count \",threading.active_count())   \n",
    "print(threads)\n",
    "print(threads[0].__dict__)\n",
    "\n",
    "for th in threads:\n",
    "    th.join()"
   ]
  },
  {
   "cell_type": "code",
   "execution_count": null,
   "metadata": {
    "collapsed": false
   },
   "outputs": [],
   "source": [
    "import threading\n",
    "\n",
    "def worker(num):\n",
    "    \"\"\"thread worker function\"\"\"\n",
    "    print('Worker: %s' % num)\n",
    "    return\n",
    "\n",
    "threads = []\n",
    "for i in range(5):\n",
    "    t = threading.Thread(target=worker, args=(i,))\n",
    "    threads.append(t)\n",
    "    t.start()\n",
    "    \n",
    "print(\"threading count \",threading.active_count())   \n",
    "\n",
    "for t in threads :\n",
    "    t.join()\n",
    "    \n"
   ]
  },
  {
   "cell_type": "markdown",
   "metadata": {},
   "source": [
    "### 현재 thread 조회하기\n",
    "\n",
    "threading.main_thread() : 실행하는 main thread를 조회\n",
    "\n",
    "threading.currentThread() : 현재 실행되는 thread 객체 가져오기\n",
    "\n",
    "예시 threading.currentThread().getName() :  현재 thread 객체의 name을 읽어옴\n",
    "\n",
    "threading.active_count() : 현재 실행되는 thread 갯수\n",
    "\n",
    "threading.enumerate() : 현재 실행되는 thread 전체 갯수에 대한 정보를 출력"
   ]
  },
  {
   "cell_type": "code",
   "execution_count": null,
   "metadata": {
    "collapsed": false
   },
   "outputs": [],
   "source": [
    "import threading\n",
    "import time\n",
    "\n",
    "def worker():\n",
    "    print(threading.currentThread().getName(), 'Starting')\n",
    "    time.sleep(2)\n",
    "    print(threading.currentThread().getName(), 'Exiting')\n",
    "\n",
    "def my_service():\n",
    "    print(threading.currentThread().getName(), 'Starting')\n",
    "    time.sleep(3)\n",
    "    print(threading.currentThread().getName(), 'Exiting')\n",
    "\n",
    "t = threading.Thread(name='my_service', target=my_service)\n",
    "w = threading.Thread(name='worker', target=worker)\n",
    "w2 = threading.Thread(target=worker) # use default name\n",
    "\n",
    "w.start()\n",
    "w2.start()\n",
    "t.start()\n",
    "\n",
    "print(\"threading count \",threading.active_count())  \n",
    "w.join()\n",
    "w2.join()\n",
    "t.join()\n"
   ]
  },
  {
   "cell_type": "code",
   "execution_count": null,
   "metadata": {
    "collapsed": false
   },
   "outputs": [],
   "source": [
    "import threading\n",
    "\n",
    "print(\"threading count \",threading.active_count()) \n",
    "\n",
    "print(\"Main thread \", threading.main_thread())\n",
    "\n",
    "# 현행 하나의 thread만 가져옴\n",
    "print(threading.currentThread())\n"
   ]
  },
  {
   "cell_type": "code",
   "execution_count": null,
   "metadata": {
    "collapsed": false
   },
   "outputs": [],
   "source": [
    "import threading\n",
    "\n",
    "print(\"threading count \",threading.active_count()) \n",
    "\n",
    "print(\"Main thread \", threading.main_thread())\n",
    "\n",
    "\n",
    "\n",
    "# 프로세스 내의 모든 thread만 가져옴\n",
    "a = threading.enumerate()\n",
    "for i in a :\n",
    "    print(i)"
   ]
  },
  {
   "cell_type": "code",
   "execution_count": null,
   "metadata": {
    "collapsed": false
   },
   "outputs": [],
   "source": [
    "import threading\n",
    "\n",
    "print(\"threading count \",threading.active_count()) \n",
    "\n",
    "print(\"Main thread \", threading.main_thread())\n"
   ]
  },
  {
   "cell_type": "code",
   "execution_count": null,
   "metadata": {
    "collapsed": false
   },
   "outputs": [],
   "source": [
    "from time import sleep\n",
    "from random import random\n",
    "from threading import Thread, local\n",
    "\n",
    "data = local()\n",
    "\n",
    "def bar():\n",
    "   \n",
    "    print(\"I'm called from\", data.v)\n",
    "\n",
    "\n",
    "class T(Thread):\n",
    "    \n",
    "    def run(self):\n",
    "        \n",
    "        sleep(random())\n",
    "        data.v = self.getName()   # Thread-1 and Thread-2 accordingly\n",
    "        sleep(1)\n",
    "        bar()\n",
    "        \n",
    "T().start()\n"
   ]
  },
  {
   "cell_type": "markdown",
   "metadata": {},
   "source": [
    "## 동기화 처리\n",
    "\n",
    "threading.Condition\n",
    "\n",
    "\n",
    "   ### 메소드 \n",
    "    \n",
    "    wait 메소드 : 통지 할 때까지 또는 시간 초과가 발생할 때까지 기다립니다.\n",
    "                이 메서드를 호출 할 때 호출 스레드가 잠금을 획득하지 않은 경우, 런타임 오류가 발생합니다.\n",
    "                \n",
    "                \n",
    "    notifyAll 메소드 : 대기 중의 모든 스레드에를 캐우며,  \n",
    "                   이 메서드를 호출 할 때 호출 스레드가 잠금을 획득하지 않은 경우 RuntimeError에가 발생합니다."
   ]
  },
  {
   "cell_type": "code",
   "execution_count": null,
   "metadata": {
    "collapsed": false
   },
   "outputs": [],
   "source": [
    "condition = threading.Condition()\n",
    "print(condition)\n",
    "print(dir(condition))"
   ]
  },
  {
   "cell_type": "code",
   "execution_count": null,
   "metadata": {
    "collapsed": false
   },
   "outputs": [],
   "source": [
    "import logging\n",
    "import threading\n",
    "import time\n",
    "\n",
    "logging.basicConfig(level=logging.DEBUG,\n",
    "                    format='%(asctime)s (%(threadName)-2s) %(message)s',\n",
    "                    )\n",
    "\n",
    "def consumer(cond):\n",
    "    \"\"\"wait for the condition and use the resource\"\"\"\n",
    "    logging.debug('Starting consumer thread')\n",
    "    t = threading.currentThread()\n",
    "    print(\" consumer \", t)\n",
    "    with cond:\n",
    "        cond.wait()\n",
    "        logging.debug('Resource is available to consumer')\n",
    "\n",
    "def producer(cond):\n",
    "    \"\"\"set up the resource to be used by the consumer\"\"\"\n",
    "    \n",
    "    t = threading.currentThread()\n",
    "    logging.debug('Starting producer thread')\n",
    "    print(\" producer \", t)\n",
    "    with cond:\n",
    "        logging.debug('Making resource available')\n",
    "        cond.notifyAll()\n",
    "\n",
    "condition = threading.Condition()\n",
    "c1 = threading.Thread(name='c1', target=consumer, args=(condition,))\n",
    "c2 = threading.Thread(name='c2', target=consumer, args=(condition,))\n",
    "p = threading.Thread(name='p', target=producer, args=(condition,))\n",
    "\n",
    "\n",
    "c1.start()\n",
    "time.sleep(2)\n",
    "c2.start()\n",
    "time.sleep(2)\n",
    "p.start()"
   ]
  },
  {
   "cell_type": "code",
   "execution_count": null,
   "metadata": {
    "collapsed": false
   },
   "outputs": [],
   "source": [
    "import threading, time\n",
    "\n",
    "def myThread(id):\n",
    "    for i in range(10):\n",
    "        print( 'id=%s --> %s' % (id, i))\n",
    "        # CPU 양보\n",
    "        time.sleep(0)\n",
    "\n",
    "# thread 객체를 모아둘 리스트\n",
    "threads = []\n",
    "\n",
    "for i in range(2):\n",
    "    # myThread를 실행하는 thread 생성\n",
    "    th = threading.Thread(target=myThread, args=(i,))\n",
    "    # thread 시작\n",
    "    th.start()\n",
    "    # thread 객체리스트에 추가\n",
    "    threads.append(th)\n",
    "    \n",
    "print(threads)\n",
    "# thread 종료까지 대기\n",
    "for th in threads:\n",
    "    th.join()\n",
    "\n",
    "print ('Exiting')"
   ]
  },
  {
   "cell_type": "markdown",
   "metadata": {},
   "source": [
    "###  subclass  thread\n",
    "\n",
    "    사용자 정의 클래스에서 threading.Thread 클래스를 상속받고 처리\n",
    "    \n",
    "      \n",
    "   #### 오버라이딩 \n",
    "\n",
    "        thread.run : 메소드를 사용자 정의 클래스에 오버라이딩\n",
    " \n",
    "             인자를 생성하고 start 메소드를 실행하면 run 메소드가 작동됨"
   ]
  },
  {
   "cell_type": "code",
   "execution_count": null,
   "metadata": {
    "collapsed": false
   },
   "outputs": [],
   "source": [
    "import threading\n",
    "\n",
    "\n",
    "class MyThread(threading.Thread):\n",
    "\n",
    "    def run(self):\n",
    "        print('running', self.name)\n",
    "        return\n",
    "\n",
    "for i in range(5):\n",
    "    t = MyThread()\n",
    "    t.start()"
   ]
  },
  {
   "cell_type": "code",
   "execution_count": null,
   "metadata": {
    "collapsed": false
   },
   "outputs": [],
   "source": [
    "import sys\n",
    "import threading\n",
    "\n",
    "class DestinationThread(threading.Thread):\n",
    "\n",
    "    def run(self):\n",
    "        if sys.version_info[0] == 2:\n",
    "            print(\"version 2\")\n",
    "            self._Thread__target(*self._Thread__args, **self._Thread__kwargs)\n",
    "        else: # assuming v3\n",
    "            print(\"version 3\")\n",
    "            self._target(*self._args, **self._kwargs)\n",
    "\n",
    "def func(a, k):\n",
    "    print(\"func(): a=%s, k=%s\" % (a, k))\n",
    "\n",
    "thread = DestinationThread(target=func, args=(1,), kwargs={\"k\": 2})\n",
    "for i in thread.__dict__.keys() :\n",
    "    print(i)\n",
    "    \n",
    "thread.start()\n",
    "thread.join()"
   ]
  },
  {
   "cell_type": "code",
   "execution_count": null,
   "metadata": {
    "collapsed": false
   },
   "outputs": [],
   "source": [
    "import threading\n",
    "\n",
    "destination_name = 'name'\n",
    "destination_config = \"config\"\n",
    "\n",
    "class Destination:\n",
    "    def run(self, name, config):\n",
    "        print('In thread', name, config)\n",
    "\n",
    "destination = Destination()\n",
    "thread = threading.Thread(target=destination.run,\n",
    "    args=(destination_name, destination_config))\n",
    "print(thread.__dict__)\n",
    "\n",
    "thread.start()"
   ]
  },
  {
   "cell_type": "code",
   "execution_count": null,
   "metadata": {
    "collapsed": false
   },
   "outputs": [],
   "source": [
    "thread.__dict__"
   ]
  },
  {
   "cell_type": "markdown",
   "metadata": {},
   "source": [
    "### Thread 를 함수(_start_new_threadthread )로 생성\n",
    "\n",
    " thread._start_new_thread(func, args, kwargs=None)\n",
    "     func = thread 실행 함수\n",
    "     args = func에 넘겨줄 인수\n",
    "     kwargs = 키워드 인수\n",
    "\n",
    "thread는 자동 실행 됨"
   ]
  },
  {
   "cell_type": "code",
   "execution_count": null,
   "metadata": {
    "collapsed": false
   },
   "outputs": [],
   "source": [
    "\n",
    "import threading, time\n",
    "\n",
    "result_values= []\n",
    "\n",
    "# thread에서 실행될 함수\n",
    "def counter(id): \n",
    "    for i in range(5):\n",
    "        print('id %s --> %s' % (id, i))\n",
    "        \n",
    "        result_values.append((id,i))\n",
    "        time.sleep(0.1)\n",
    "\n",
    "# thread 5개 실행\n",
    "for i in range(5):\n",
    "    threading._start_new_thread(counter, (i,))\n",
    "\n",
    "# thread가 다 돌 때까지 대기\n",
    "time.sleep(1)\n",
    "print(result_values)\n",
    "print( 'Exiting')"
   ]
  },
  {
   "cell_type": "code",
   "execution_count": null,
   "metadata": {
    "collapsed": false
   },
   "outputs": [],
   "source": [
    "dir(threading)"
   ]
  },
  {
   "cell_type": "code",
   "execution_count": null,
   "metadata": {
    "collapsed": false
   },
   "outputs": [],
   "source": [
    "help(threading.currentThread)"
   ]
  },
  {
   "cell_type": "markdown",
   "metadata": {
    "collapsed": true
   },
   "source": [
    "## 프로세스 처리\n",
    "\n",
    "'authkey',\n",
    " 'daemon',\n",
    " 'exitcode',\n",
    " 'ident',\n",
    " 'is_alive',\n",
    " 'join',\n",
    " 'name',\n",
    " 'pid',\n",
    " 'run',\n",
    " 'sentinel',\n",
    " 'start',\n",
    " 'terminate'"
   ]
  },
  {
   "cell_type": "code",
   "execution_count": null,
   "metadata": {
    "collapsed": false
   },
   "outputs": [],
   "source": [
    "%%writefile mp_sample.py\n",
    "import multiprocessing as mp\n",
    "import os\n",
    "import time\n",
    "\n",
    "def func(x) :\n",
    "    \n",
    "    print(\" process id \", os.getpid())\n",
    "    print(\" parents process id\",os.getppid())\n",
    "    \n",
    "def main() :      \n",
    "    for i in range(3) :\n",
    "        p = mp.Process(target=func, args=(i,))\n",
    "        print(p)\n",
    "        p.start()\n",
    "    time.sleep(2)\n",
    "    p.join()\n",
    "    \n",
    "if __name__ == \"__main__\" :\n",
    "    main()"
   ]
  },
  {
   "cell_type": "code",
   "execution_count": null,
   "metadata": {
    "collapsed": false
   },
   "outputs": [],
   "source": [
    "!python mp_sample.py"
   ]
  },
  {
   "cell_type": "code",
   "execution_count": null,
   "metadata": {
    "collapsed": false
   },
   "outputs": [],
   "source": [
    "import multiprocessing as mp\n",
    "dir(mp.Process)"
   ]
  },
  {
   "cell_type": "code",
   "execution_count": null,
   "metadata": {
    "collapsed": false
   },
   "outputs": [],
   "source": [
    "%%writefile mp_sample1.py\n",
    "import multiprocessing as mp\n",
    "import os\n",
    "import time\n",
    "\n",
    "def func(x) :\n",
    "    print(\"func processing\")\n",
    "    \n",
    "def main() :      \n",
    "    for i in range(1) :\n",
    "        p = mp.Process(target=func, args=(i,))\n",
    "        p.start()\n",
    "       \n",
    "        print(\"process authkey \",p.authkey)\n",
    "        print(\"process daemon \",p.daemon) # Return whether process is a daemon\n",
    "        print(\"process name \",p.name)\n",
    "        print(\"process ident \",p.ident) #Return identifier (PID) of process or `None` if it has yet to start\n",
    "        print(\"process pid \",p.pid)\n",
    "        # Return a file descriptor (Unix) or handle (Windows) suitable for waiting for process termination.\n",
    "        print(\"process sentinel \",p.sentinel)\n",
    "        \n",
    "    time.sleep(2)\n",
    "    p.join()\n",
    "    \n",
    "if __name__ == \"__main__\" :\n",
    "    main()\n",
    "    "
   ]
  },
  {
   "cell_type": "code",
   "execution_count": null,
   "metadata": {
    "collapsed": false
   },
   "outputs": [],
   "source": [
    "!python mp_sample1.py"
   ]
  },
  {
   "cell_type": "code",
   "execution_count": null,
   "metadata": {
    "collapsed": false
   },
   "outputs": [],
   "source": [
    "%%writefile import_worker.py\n",
    "def worker():\n",
    "    \"\"\"worker function\"\"\"\n",
    "    print('Worker')\n",
    "    return"
   ]
  },
  {
   "cell_type": "code",
   "execution_count": null,
   "metadata": {
    "collapsed": false
   },
   "outputs": [],
   "source": [
    "%%writefile process_main.py\n",
    "import multiprocessing\n",
    "import import_worker\n",
    "\n",
    "if __name__ == '__main__':\n",
    "    jobs = []\n",
    "    for i in range(5):\n",
    "        p = multiprocessing.Process(target=import_worker.worker)\n",
    "        jobs.append(p)\n",
    "        p.start()"
   ]
  },
  {
   "cell_type": "code",
   "execution_count": null,
   "metadata": {
    "collapsed": false
   },
   "outputs": [],
   "source": [
    "!python process_main.py"
   ]
  },
  {
   "cell_type": "code",
   "execution_count": null,
   "metadata": {
    "collapsed": false
   },
   "outputs": [],
   "source": [
    "%%writefile process_variance.py\n",
    "import multiprocessing\n",
    "import time\n",
    "\n",
    "def worker():\n",
    "    name = multiprocessing.current_process().name\n",
    "    print(name, 'Starting')\n",
    "    time.sleep(2)\n",
    "    print( name, 'Exiting')\n",
    "\n",
    "def my_service():\n",
    "    name = multiprocessing.current_process().name\n",
    "    print(name, 'Starting')\n",
    "    time.sleep(3)\n",
    "    print( name, 'Exiting')\n",
    "\n",
    "if __name__ == '__main__':\n",
    "    service = multiprocessing.Process(name='my_service', target=my_service)\n",
    "    worker_1 = multiprocessing.Process(name='worker 1', target=worker)\n",
    "    worker_2 = multiprocessing.Process(target=worker) # use default name\n",
    "\n",
    "    worker_1.start()\n",
    "    worker_2.start()\n",
    "    service.start()"
   ]
  },
  {
   "cell_type": "code",
   "execution_count": null,
   "metadata": {
    "collapsed": false
   },
   "outputs": [],
   "source": [
    "!python process_variance.py"
   ]
  },
  {
   "cell_type": "code",
   "execution_count": null,
   "metadata": {
    "collapsed": false
   },
   "outputs": [],
   "source": [
    "%%writefile process_daemon.py\n",
    "import multiprocessing\n",
    "import time, sys\n",
    "\n",
    "def daemon():\n",
    "    p = multiprocessing.current_process()\n",
    "    print('Starting:', p.name, p.pid)\n",
    "    sys.stdout.flush() # 정의하지 않으면 출력이 안됨\n",
    "    time.sleep(2)\n",
    "    print('Exiting :', p.name, p.pid)\n",
    "    sys.stdout.flush()\n",
    "\n",
    "def non_daemon():\n",
    "    p = multiprocessing.current_process()\n",
    "    print('Starting:', p.name, p.pid)\n",
    "    print('Exiting :', p.name, p.pid)\n",
    "\n",
    "if __name__ == '__main__':\n",
    "    d = multiprocessing.Process(name='daemon', target=daemon)\n",
    "    d.daemon = True\n",
    "\n",
    "    n = multiprocessing.Process(name='non-daemon', target=non_daemon)\n",
    "    n.daemon = False\n",
    "\n",
    "    d.start()\n",
    "    time.sleep(1)\n",
    "    n.start()\n",
    "    print(\"daemon processing status \",d.is_alive())"
   ]
  },
  {
   "cell_type": "code",
   "execution_count": null,
   "metadata": {
    "collapsed": false
   },
   "outputs": [],
   "source": [
    "!python process_daemon.py"
   ]
  },
  {
   "cell_type": "code",
   "execution_count": null,
   "metadata": {
    "collapsed": false
   },
   "outputs": [],
   "source": [
    "%%writefile process_terminate.py\n",
    "import multiprocessing\n",
    "import time\n",
    "\n",
    "def slow_worker():\n",
    "    print('Starting worker')\n",
    "    time.sleep(0.1)\n",
    "    print('Finished worker')\n",
    "\n",
    "if __name__ == '__main__':\n",
    "    p = multiprocessing.Process(target=slow_worker)\n",
    "    print('BEFORE:', p, p.is_alive())\n",
    "    \n",
    "    p.start()\n",
    "    print('DURING:', p, p.is_alive())\n",
    "    \n",
    "    p.terminate()\n",
    "    print('TERMINATED:', p, p.is_alive())\n",
    "\n",
    "    p.join()\n",
    "    print('JOINED:', p, p.is_alive())"
   ]
  },
  {
   "cell_type": "code",
   "execution_count": null,
   "metadata": {
    "collapsed": false
   },
   "outputs": [],
   "source": [
    "!python process_terminate.py"
   ]
  },
  {
   "cell_type": "code",
   "execution_count": null,
   "metadata": {
    "collapsed": false
   },
   "outputs": [],
   "source": [
    "%%writefile process_daemon1.py\n",
    "import multiprocessing\n",
    "import time, sys, os, signal\n",
    "\n",
    "def daemon():\n",
    "    p = multiprocessing.current_process()\n",
    "    print('Starting:', p.name, p.pid)\n",
    "    sys.stdout.flush() # 정의하지 않으면 출력이 안됨\n",
    "    time.sleep(2)\n",
    "    print('Exiting :', p.name, p.pid)\n",
    "    sys.stdout.flush()\n",
    "\n",
    "if __name__ == '__main__':\n",
    "    d = multiprocessing.Process(name='daemon', target=daemon)\n",
    "    d.daemon = True\n",
    "\n",
    "    d.start()\n",
    "    time.sleep(1)\n",
    "    print('DURING:', d, d.is_alive())\n",
    "    \n",
    "    d.terminate()   # daemon은 죽지 않음\n",
    "    print('TERMINATED:', d, d.is_alive())\n",
    "    \n",
    "    os.kill(d.pid, signal.CTRL_C_EVENT)\n",
    "    print('Kill :', d, d.is_alive())\n",
    "    \n",
    "    sys.exit() # daemon은 현재 빠져나가야 함\n",
    "    print('sys exit :', d, d.is_alive())"
   ]
  },
  {
   "cell_type": "code",
   "execution_count": null,
   "metadata": {
    "collapsed": false
   },
   "outputs": [],
   "source": [
    "!python process_daemon1.py"
   ]
  },
  {
   "cell_type": "code",
   "execution_count": null,
   "metadata": {
    "collapsed": false
   },
   "outputs": [],
   "source": [
    "import os, signal\n",
    "help(signal)"
   ]
  },
  {
   "cell_type": "code",
   "execution_count": null,
   "metadata": {
    "collapsed": false
   },
   "outputs": [],
   "source": [
    "%%writefile process_pool.py\n",
    "import multiprocessing\n",
    "\n",
    "def funSquare(num):\n",
    "    return num ** 2\n",
    "\n",
    "if __name__ == '__main__':\n",
    "    pool = multiprocessing.Pool()\n",
    "    print(pool)\n",
    "    results = pool.map(funSquare, range(10))\n",
    "    print(results)"
   ]
  },
  {
   "cell_type": "code",
   "execution_count": null,
   "metadata": {
    "collapsed": false
   },
   "outputs": [],
   "source": [
    "!python process_pool.py"
   ]
  },
  {
   "cell_type": "code",
   "execution_count": null,
   "metadata": {
    "collapsed": false
   },
   "outputs": [],
   "source": [
    "import multiprocessing\n",
    "help(multiprocessing.Process)"
   ]
  },
  {
   "cell_type": "code",
   "execution_count": null,
   "metadata": {
    "collapsed": false
   },
   "outputs": [],
   "source": [
    "%%writefile process_test1.py\n",
    "from multiprocessing import Process\n",
    "\n",
    "def say_hello(name='world'):\n",
    "    print(\"Hello, %s\" % name)\n",
    "    \n",
    "if __name__ == \"__main__\" :\n",
    "    p = Process(target=say_hello, name=\"say_hello\")\n",
    "   \n",
    "    p.start()\n",
    "    print(p.name)\n",
    "    print(p.pid)\n",
    "    p.join()"
   ]
  },
  {
   "cell_type": "code",
   "execution_count": null,
   "metadata": {
    "collapsed": false
   },
   "outputs": [],
   "source": [
    "!python process_test1.py"
   ]
  },
  {
   "cell_type": "code",
   "execution_count": null,
   "metadata": {
    "collapsed": false
   },
   "outputs": [],
   "source": [
    "%%writefile process_test2.py\n",
    "from multiprocessing import  Process, Queue\n",
    "\n",
    "q = Queue()\n",
    "\n",
    "def put_queue(q,msg):\n",
    "    q.put(msg)\n",
    "    print(\"put , %s\" % q._buffer)\n",
    "    \n",
    "def get_queue(q):\n",
    "    msg = q.get()\n",
    "    print(\"queue buffer , %s\" % q._buffer)\n",
    "    print(\"get, %s\" % msg)\n",
    "    \n",
    "if __name__ == \"__main__\" :\n",
    "    msg = \"Why hello there!\"\n",
    "    p = Process(target=put_queue, name=\"put_queue\", args=(q,msg))\n",
    "    g = Process(target=get_queue, name=\"get_queue\", args=(q,))\n",
    "    \n",
    "    p.start()\n",
    "    g.start()\n",
    "    p.join()\n",
    "    g.join()\n"
   ]
  },
  {
   "cell_type": "code",
   "execution_count": null,
   "metadata": {
    "collapsed": false
   },
   "outputs": [],
   "source": [
    "!python process_test2.py"
   ]
  },
  {
   "cell_type": "code",
   "execution_count": null,
   "metadata": {
    "collapsed": false
   },
   "outputs": [],
   "source": [
    "%%writefile process_test3.py\n",
    "from multiprocessing import Process, Queue, current_process\n",
    "import random\n",
    "\n",
    "process_str = []\n",
    "def rand_num(queue):\n",
    "    num = random.random()\n",
    "    p = current_process()\n",
    "    queue.put([p.name,num])\n",
    "    process_str.append(p)\n",
    "    print(p, num)\n",
    "    \n",
    "    \n",
    "if __name__ == \"__main__\":\n",
    "    queue = Queue()\n",
    "    processes = [Process(target=rand_num, args=(queue,)) for x in range(4)]\n",
    "    \n",
    "    for p in processes:\n",
    "        p.start()\n",
    "      \n",
    "    for p in processes:\n",
    "        print(queue.get()) \n",
    "        \n",
    "\n",
    "    for p in processes:\n",
    "        p.join()\n"
   ]
  },
  {
   "cell_type": "code",
   "execution_count": null,
   "metadata": {
    "collapsed": false
   },
   "outputs": [],
   "source": [
    "!python process_test3.py"
   ]
  },
  {
   "cell_type": "code",
   "execution_count": null,
   "metadata": {
    "collapsed": false
   },
   "outputs": [],
   "source": [
    "!python process_test3.py"
   ]
  },
  {
   "cell_type": "code",
   "execution_count": null,
   "metadata": {
    "collapsed": false
   },
   "outputs": [],
   "source": [
    "import collections\n",
    "\n",
    "a = collections.deque([(1,1),(2,2)])\n",
    "print(a)\n",
    "\n",
    "from multiprocessing import Process, Queue, current_process\n",
    "\n",
    "help(Queue().put)\n",
    "a = Queue()\n",
    "a.put((1,1))\n",
    "print(a._buffer)\n",
    "print(a.get())\n"
   ]
  },
  {
   "cell_type": "code",
   "execution_count": null,
   "metadata": {
    "collapsed": false
   },
   "outputs": [],
   "source": [
    "from multiprocessing import Lock\n",
    "\n",
    "l = Lock()\n",
    "\n",
    "l.acquire()\n",
    "print('Ha! Only I can write to stdout!')\n",
    "l.release()"
   ]
  },
  {
   "cell_type": "code",
   "execution_count": null,
   "metadata": {
    "collapsed": false
   },
   "outputs": [],
   "source": [
    "%%writefile process_test.py\n",
    "import os\n",
    " \n",
    "from multiprocessing import Process\n",
    " \n",
    "def doubler(number):\n",
    "    \"\"\"\n",
    "    A doubling function that can be used by a process\n",
    "    \"\"\"\n",
    "    result = number * 2\n",
    "    proc = os.getpid()\n",
    "    print('{0} doubled to {1} by process id: {2}'.format(\n",
    "        number, result, proc))\n",
    "    \n",
    "    \n",
    "if __name__ == '__main__':\n",
    "    numbers = [5, 10, 15, 20, 25]\n",
    "    procs = []\n",
    " \n",
    "    for index, number in enumerate(numbers):\n",
    "        proc = Process(target=doubler, args=(number,))\n",
    "        procs.append(proc)\n",
    "        proc.start()\n",
    " \n",
    "    for proc in procs:\n",
    "        proc.join()"
   ]
  },
  {
   "cell_type": "code",
   "execution_count": null,
   "metadata": {
    "collapsed": false
   },
   "outputs": [],
   "source": [
    "!python process_test.py"
   ]
  },
  {
   "cell_type": "code",
   "execution_count": null,
   "metadata": {
    "collapsed": false
   },
   "outputs": [],
   "source": [
    "from multiprocessing import Process\n",
    "help(Process)"
   ]
  },
  {
   "cell_type": "code",
   "execution_count": null,
   "metadata": {
    "collapsed": false
   },
   "outputs": [],
   "source": [
    "%%writefile process_test1.py\n",
    "\n",
    " \n",
    "from multiprocessing import Process, current_process\n",
    " \n",
    "def doubler(number):\n",
    "    \n",
    "    print('number{0} process id: {1}'.format(\n",
    "        number, current_process()))\n",
    "    \n",
    "    \n",
    "if __name__ == '__main__':\n",
    "    numbers = [5, 10, 15, 20, 25]\n",
    "    procs = []\n",
    " \n",
    "    for index, number in enumerate(numbers):\n",
    "        proc = Process(target=doubler, args=(number,))\n",
    "        procs.append(proc)\n",
    "        proc.start()\n",
    " \n",
    "    for proc in procs:\n",
    "        proc.join()"
   ]
  },
  {
   "cell_type": "code",
   "execution_count": null,
   "metadata": {
    "collapsed": false
   },
   "outputs": [],
   "source": [
    "!python process_test1.py"
   ]
  },
  {
   "cell_type": "code",
   "execution_count": null,
   "metadata": {
    "collapsed": false
   },
   "outputs": [],
   "source": [
    "%%writefile process_test3.py\n",
    "import multiprocessing\n",
    "import time\n",
    "\n",
    "def worker(*args,**kwargs):\n",
    "    proc = multiprocessing.current_process()\n",
    "    print(proc, args,kwargs)\n",
    "    time.sleep(2)\n",
    "    print(proc.__dict__ )\n",
    "\n",
    "if __name__ == '__main__':\n",
    "    \n",
    "    worker_1 = multiprocessing.Process(name='worker 1', \n",
    "                                       target=worker, \n",
    "                                       args=(1,2,3),\n",
    "                                       kwargs={'a':1,'b':2})\n",
    "    \n",
    "    worker_1.start()\n",
    "  \n",
    "    worker_1.join(4)"
   ]
  },
  {
   "cell_type": "code",
   "execution_count": null,
   "metadata": {
    "collapsed": false
   },
   "outputs": [],
   "source": [
    "!python process_test3.py"
   ]
  },
  {
   "cell_type": "code",
   "execution_count": null,
   "metadata": {
    "collapsed": false
   },
   "outputs": [],
   "source": [
    "%%writefile process_test4.py\n",
    "import multiprocessing\n",
    "import time\n",
    "\n",
    "data = ['a','b','c','d','e','f','g','h']\n",
    "data1 = [1,2,3,4,5,6,7,8]\n",
    "   \n",
    "\n",
    "def mp_worker(*args):\n",
    "    print(args)\n",
    "    inputs = args[0][0]\n",
    "    the_time = args[0][1]\n",
    "    print(\" Processs %s\\tWaiting %s seconds\" % (inputs, the_time))\n",
    "    time.sleep(int(the_time))\n",
    "    print(\" Process %s\\tDONE\" % inputs)\n",
    "\n",
    "def mp_handler():\n",
    "    subdata = zip(data, data1)\n",
    "    print(list(subdata))\n",
    "    \n",
    "    for i in range(8) :\n",
    "        p = multiprocessing.Pool(2)\n",
    "        p.map(mp_worker, list(subdata))\n",
    "    p.close()\n",
    "\n",
    "if __name__ == '__main__':\n",
    "    mp_handler()"
   ]
  },
  {
   "cell_type": "code",
   "execution_count": null,
   "metadata": {
    "collapsed": false
   },
   "outputs": [],
   "source": [
    "!python process_test4.py"
   ]
  },
  {
   "cell_type": "code",
   "execution_count": null,
   "metadata": {
    "collapsed": false
   },
   "outputs": [],
   "source": [
    "import multiprocessing\n",
    "a = multiprocessing.Pool()\n",
    "help(a.close)"
   ]
  },
  {
   "cell_type": "code",
   "execution_count": null,
   "metadata": {
    "collapsed": false
   },
   "outputs": [],
   "source": [
    "%%writefile process_test5.py\n",
    "import multiprocessing\n",
    "import time\n",
    "\n",
    "data = (\n",
    "    ['a', '2'], ['b', '4'], ['c', '6'], ['d', '8'],\n",
    "    ['e', '1'], ['f', '3'], ['g', '5'], ['h', '7']\n",
    ")\n",
    "\n",
    "def mp_worker(*args):\n",
    "    inputs = args[0][0]\n",
    "    the_time = args[0][1]\n",
    "    print(\" Processs %s\\tWaiting %s seconds\" % (inputs, the_time))\n",
    "    time.sleep(int(the_time))\n",
    "    print(\" Process %s\\tDONE\" % inputs)\n",
    "\n",
    "def mp_handler():\n",
    "    p = multiprocessing.Pool(2)\n",
    "    p.map(mp_worker, data)\n",
    "\n",
    "if __name__ == '__main__':\n",
    "    mp_handler()"
   ]
  },
  {
   "cell_type": "code",
   "execution_count": null,
   "metadata": {
    "collapsed": false
   },
   "outputs": [],
   "source": [
    "!python process_test5.py"
   ]
  },
  {
   "cell_type": "code",
   "execution_count": null,
   "metadata": {
    "collapsed": false
   },
   "outputs": [],
   "source": [
    "%%writefile process_test6.py\n",
    "import multiprocessing\n",
    "\n",
    "def myfunction(i,event):\n",
    "    print(args)\n",
    "    i = 20\n",
    "    event = args[1]\n",
    "    if not event.is_set():\n",
    "        print(i) \n",
    "    if i == 20:\n",
    "        event.set()\n",
    "\n",
    "if __name__ == \"__main__\":\n",
    "    pool= multiprocessing.Pool(2) \n",
    "    m = multiprocessing.Manager()\n",
    "    event = m.Event()\n",
    "    for i in range(100):\n",
    "        pool.apply_async(myfunction , (i, event))\n",
    "    pool.close()\n",
    "\n",
    "    event.wait()  # We'll block here until a worker calls `event.set()`\n",
    "    pool.terminate() # Terminate all processes in the Pool"
   ]
  },
  {
   "cell_type": "code",
   "execution_count": null,
   "metadata": {
    "collapsed": false
   },
   "outputs": [],
   "source": [
    "!python process_test6.py"
   ]
  },
  {
   "cell_type": "code",
   "execution_count": null,
   "metadata": {
    "collapsed": true
   },
   "outputs": [],
   "source": []
  },
  {
   "cell_type": "code",
   "execution_count": null,
   "metadata": {
    "collapsed": false
   },
   "outputs": [],
   "source": [
    "%%writefile process_test7.py\n",
    "\n",
    "import multiprocessing\n",
    "import time\n",
    "\n",
    "def myfunction(i):\n",
    "    \n",
    "    print(i, \" excute process \",multiprocessing.current_process())\n",
    "    time.sleep(0.5)\n",
    "    return i*i\n",
    "\n",
    "if __name__ == \"__main__\":\n",
    "    print(\"__name__\")\n",
    "    p = multiprocessing.Pool(2) \n",
    "    result = p.map(myfunction, range(10))\n",
    "    print(\" result \", result)\n",
    "   "
   ]
  },
  {
   "cell_type": "code",
   "execution_count": null,
   "metadata": {
    "collapsed": false
   },
   "outputs": [],
   "source": [
    "!python process_test7.py"
   ]
  },
  {
   "cell_type": "code",
   "execution_count": null,
   "metadata": {
    "collapsed": false
   },
   "outputs": [],
   "source": [
    "%%writefile process_test8.py\n",
    "\n",
    "import multiprocessing\n",
    "def myfunction(*args):\n",
    "    i = 0\n",
    "    print(args)\n",
    "    for i in args :\n",
    "        i += 1\n",
    "        \n",
    "    print(i)\n",
    "    if (i == 20):\n",
    "        sys.exit()\n",
    "\n",
    "if __name__ == \"__main__\":\n",
    "    print(\"__name__\")\n",
    "    p = multiprocessing.Pool(2) \n",
    "    a = p.apply_async(myfunction, args=(1,2,3,4)).get()\n",
    "    print(a)\n",
    "   "
   ]
  },
  {
   "cell_type": "code",
   "execution_count": null,
   "metadata": {
    "collapsed": false
   },
   "outputs": [],
   "source": [
    "!python process_test8.py"
   ]
  },
  {
   "cell_type": "code",
   "execution_count": null,
   "metadata": {
    "collapsed": false
   },
   "outputs": [],
   "source": [
    "%%writefile process_test9.py\n",
    "\n",
    "import multiprocessing as mp\n",
    "import time\n",
    "\n",
    "def foo_pool(x):\n",
    "    time.sleep(2)\n",
    "    return x*x\n",
    "\n",
    "result_list = []\n",
    "def log_result(result):\n",
    "    # This is called whenever foo_pool(i) returns a result.\n",
    "    # result_list is modified only by the main process, not the pool workers.\n",
    "    result_list.append(result)\n",
    "\n",
    "def apply_async_with_callback():\n",
    "    pool = mp.Pool()\n",
    "    for i in range(10):\n",
    "        pool.apply_async(foo_pool, args = (i, ), callback = log_result)\n",
    "    pool.close()\n",
    "    pool.join()\n",
    "    print(result_list)\n",
    "\n",
    "if __name__ == '__main__':\n",
    "    apply_async_with_callback()"
   ]
  },
  {
   "cell_type": "code",
   "execution_count": null,
   "metadata": {
    "collapsed": false
   },
   "outputs": [],
   "source": [
    "!python process_test9.py"
   ]
  },
  {
   "cell_type": "code",
   "execution_count": null,
   "metadata": {
    "collapsed": false
   },
   "outputs": [],
   "source": [
    "import multiprocessing as mp\n",
    "\n",
    "print(type(mp.Pool()))\n",
    "\n",
    "print(type(mp.Pool().apply_async))\n",
    "print(help(mp.Pool().apply_async))"
   ]
  },
  {
   "cell_type": "code",
   "execution_count": null,
   "metadata": {
    "collapsed": false
   },
   "outputs": [],
   "source": [
    "print(help(mp.Pool().close))"
   ]
  },
  {
   "cell_type": "code",
   "execution_count": null,
   "metadata": {
    "collapsed": false
   },
   "outputs": [],
   "source": [
    "print(help(mp.Pool().join))"
   ]
  },
  {
   "cell_type": "code",
   "execution_count": null,
   "metadata": {
    "collapsed": false
   },
   "outputs": [],
   "source": [
    "%%writefile process_apply.py\n",
    "import multiprocessing\n",
    "import time\n",
    " \n",
    "def square(x):\n",
    "    # This is is reeeeally slow way to square numbers.\n",
    "    print(\" excute process \",multiprocessing.current_process())\n",
    "    time.sleep(0.5)\n",
    "    return x**2\n",
    " \n",
    "if __name__ == \"__main__\" : \n",
    "    print(\"Creating pool with 3 workers\")\n",
    "    pool = multiprocessing.Pool(processes=3)\n",
    "    print(pool._pool)\n",
    "    print(\"Invoking apply(square, 3)\")\n",
    "    print(\"Result: %s\" % (pool.apply(square, [3]),))\n",
    "    print(\"Result: %s\" % (pool.apply(square, [9]),))\n",
    "    pool.close()\n",
    "    pool.join()\n"
   ]
  },
  {
   "cell_type": "code",
   "execution_count": null,
   "metadata": {
    "collapsed": false
   },
   "outputs": [],
   "source": [
    "!python process_apply.py"
   ]
  },
  {
   "cell_type": "code",
   "execution_count": null,
   "metadata": {
    "collapsed": false
   },
   "outputs": [],
   "source": [
    "%%writefile process_applyasync.py\n",
    "import multiprocessing\n",
    "import time\n",
    " \n",
    "def square(x):\n",
    "    # This is is reeeeally slow way to square numbers.\n",
    "    print(\" excute process \",multiprocessing.current_process())\n",
    "    time.sleep(0.5)\n",
    "    return x**2\n",
    " \n",
    "if __name__ == \"__main__\" : \n",
    "    print(\"Creating pool with 3 workers\")\n",
    "    pool = multiprocessing.Pool(processes=3)\n",
    "    print(\"Invoking apply_async(square, 4)\")\n",
    "    result = pool.apply_async(square, [4])\n",
    "    print(\"Waiting for result...\")\n",
    "    start_time = time.time()\n",
    "    print(\"Result: %s (%.2f secs)\" % (result.get(), time.time() - start_time))\n",
    "    pool.close()\n",
    "    pool.join()\n"
   ]
  },
  {
   "cell_type": "code",
   "execution_count": null,
   "metadata": {
    "collapsed": false
   },
   "outputs": [],
   "source": [
    "!python process_applyasync.py"
   ]
  },
  {
   "cell_type": "code",
   "execution_count": null,
   "metadata": {
    "collapsed": false
   },
   "outputs": [],
   "source": [
    "%%writefile process_mapasync.py\n",
    "import multiprocessing\n",
    "import time\n",
    " \n",
    "def square(x):\n",
    "    # This is is reeeeally slow way to square numbers.\n",
    "    print(\" excute process \",multiprocessing.current_process())\n",
    "    time.sleep(0.5)\n",
    "    return x**2\n",
    " \n",
    "if __name__ == \"__main__\" : \n",
    "    print(\"Creating pool with 3 workers\")\n",
    "    pool = multiprocessing.Pool(processes=3)\n",
    "    print(\"Invoking map_async(square, [11, 12, 13, 14, 15, 16])\")\n",
    "    result = pool.map_async(square, [11, 12, 13, 14, 15, 16])\n",
    "    print( \"Waiting for result...\")\n",
    "    start_time = time.time()\n",
    "    print(\"Result: %r (%.2f secs)\" % (result.get(), time.time() - start_time))\n",
    "    pool.close()\n",
    "    pool.join()"
   ]
  },
  {
   "cell_type": "code",
   "execution_count": null,
   "metadata": {
    "collapsed": false
   },
   "outputs": [],
   "source": [
    "!python process_mapasync.py"
   ]
  },
  {
   "cell_type": "code",
   "execution_count": null,
   "metadata": {
    "collapsed": false
   },
   "outputs": [],
   "source": [
    "%%writefile process_npsqrt.py\n",
    "\n",
    "from multiprocessing import Pool, current_process\n",
    "import numpy \n",
    "\n",
    "def sqrt(x):\n",
    "    print(\" process\", current_process())\n",
    "    return numpy.sqrt(x)\n",
    "\n",
    "if __name__ == '__main__':\n",
    "    pool = Pool(5)\n",
    "    roots1 = pool.map(sqrt, range(6))\n",
    "    print(roots1)\n",
    "    roots2 = pool.map(sqrt, range(6,12))\n",
    "    print(roots2)\n"
   ]
  },
  {
   "cell_type": "code",
   "execution_count": null,
   "metadata": {
    "collapsed": false
   },
   "outputs": [],
   "source": [
    "!python process_npsqrt.py"
   ]
  },
  {
   "cell_type": "code",
   "execution_count": null,
   "metadata": {
    "collapsed": false
   },
   "outputs": [],
   "source": [
    "%%writefile process_npsqrt1.py\n",
    "\n",
    "from multiprocessing import Pool, current_process\n",
    "import numpy\n",
    "\n",
    "def sqrt(x):\n",
    "    print(\" process\", current_process())\n",
    "    return numpy.sqrt(x)\n",
    "\n",
    "\n",
    "if __name__ == '__main__':\n",
    "    \n",
    "    pool = Pool()\n",
    "    results = [pool.apply_async(sqrt, (x,)) for x in range(6)]\n",
    "    print(results)\n",
    "    roots = [r.get() for r in results]\n",
    "    print(roots)"
   ]
  },
  {
   "cell_type": "code",
   "execution_count": null,
   "metadata": {
    "collapsed": false
   },
   "outputs": [],
   "source": [
    "!python process_npsqrt1.py"
   ]
  },
  {
   "cell_type": "code",
   "execution_count": null,
   "metadata": {
    "collapsed": false
   },
   "outputs": [],
   "source": [
    "\n",
    "import threading as th\n",
    "\n",
    "\n",
    "# 호출자의 스레드 컨트롤 스레드 객체의 수\n",
    "t = th.currentThread()\n",
    "print(t)\n",
    "print(th.current_thread())\n",
    "\n",
    "# 활성 스레드 객체의 수\n",
    "print(th.activeCount())\n",
    "print(th.active_count())\n",
    "\n",
    "#  현재 활성화 된 모든 스레드 객체의리스트\n",
    "print(th.enumerate())\n",
    "print(th.main_thread())\n",
    "\n"
   ]
  },
  {
   "cell_type": "code",
   "execution_count": null,
   "metadata": {
    "collapsed": false
   },
   "outputs": [],
   "source": [
    "%%writefile pool_map.py\n",
    "from multiprocessing import Pool, current_process\n",
    "\n",
    "def cube(x):\n",
    "    print(current_process())\n",
    "    return x**3\n",
    "\n",
    "if __name__ == \"__main__\" :\n",
    "    \n",
    "    pool = Pool(processes=4)\n",
    "    results = pool.map(cube, range(1,7))\n",
    "    print(results)"
   ]
  },
  {
   "cell_type": "code",
   "execution_count": null,
   "metadata": {
    "collapsed": false
   },
   "outputs": [],
   "source": [
    "!python pool_map.py"
   ]
  },
  {
   "cell_type": "code",
   "execution_count": null,
   "metadata": {
    "collapsed": false
   },
   "outputs": [],
   "source": [
    "from multiprocessing import Pool\n",
    "help(Pool().map_async)"
   ]
  },
  {
   "cell_type": "code",
   "execution_count": null,
   "metadata": {
    "collapsed": false
   },
   "outputs": [],
   "source": [
    "%%writefile pool_map1.py\n",
    "from multiprocessing import Pool, current_process\n",
    "import numpy as np\n",
    "\n",
    "def worker(x):\n",
    "    print(current_process())\n",
    "    return np.add(x,x)\n",
    "\n",
    "results_l = []\n",
    "def result_back(result) :\n",
    "    results_l.append(result)\n",
    "\n",
    "if __name__ == \"__main__\" :\n",
    "    \n",
    "    pool = Pool(processes=4)\n",
    "    # map\n",
    "    result = pool.map_async(worker, [1, 2, 3], callback=result_back)\n",
    "    \n",
    "    print(result.get())\n",
    "    print(results_l)\n",
    "    pool.close()\n",
    "    pool.join()"
   ]
  },
  {
   "cell_type": "code",
   "execution_count": null,
   "metadata": {
    "collapsed": false
   },
   "outputs": [],
   "source": [
    "!python pool_map1.py"
   ]
  },
  {
   "cell_type": "code",
   "execution_count": null,
   "metadata": {
    "collapsed": false
   },
   "outputs": [],
   "source": [
    "from threading import Lock\n",
    "help(Lock().release)"
   ]
  },
  {
   "cell_type": "code",
   "execution_count": null,
   "metadata": {
    "collapsed": false
   },
   "outputs": [],
   "source": [
    "import threading \n",
    "import time\n",
    "\n",
    "total = 0\n",
    "def synchronized(func):\n",
    "    func.__lock__ = threading.Lock()\n",
    "    def synced_func(*args, **kws):\n",
    "        with func.__lock__:\n",
    "            return func(*args, **kws)\n",
    "    return synced_func\n",
    "\n",
    "@synchronized\n",
    "def count():\n",
    "    global total\n",
    "    curr = total + 1\n",
    "    time.sleep(0.1)\n",
    "    print(threading.current_thread(), curr)\n",
    "    total = curr\n",
    "    \n",
    "\n",
    "def counter():\n",
    "    print(\" exec thread\", threading.current_thread())\n",
    "    for i in range(0,10): \n",
    "        count()\n",
    "        \n",
    "thread1 = threading.Thread(target = counter)\n",
    "thread2 = threading.Thread(target = counter)\n",
    "\n",
    "thread1.start()\n",
    "thread2.start()\n",
    "\n",
    "thread1.join()\n",
    "thread2.join()\n",
    "\n",
    "print(total)"
   ]
  },
  {
   "cell_type": "code",
   "execution_count": null,
   "metadata": {
    "collapsed": false
   },
   "outputs": [],
   "source": [
    "import threading \n",
    "import time\n",
    "\n",
    "total = 0\n",
    "def counter():\n",
    "    global total\n",
    "        \n",
    "    for i in range(0,10):\n",
    "        print(threading.current_thread(),i)\n",
    "        time.sleep(0.1)\n",
    "        total += i\n",
    "    \n",
    "thread1 = threading.Thread(target = counter)\n",
    "thread2 = threading.Thread(target = counter)\n",
    "\n",
    "thread1.start()\n",
    "thread2.start()\n",
    "\n",
    "thread1.join()\n",
    "thread2.join()\n",
    "\n",
    "print(\" total \", total)"
   ]
  },
  {
   "cell_type": "code",
   "execution_count": null,
   "metadata": {
    "collapsed": false
   },
   "outputs": [],
   "source": [
    "import threading\n",
    "\n",
    "TOTAL = 0\n",
    "MY_LOCK = threading.Lock()\n",
    "\n",
    "class CountThread(threading.Thread):\n",
    "    def run(self):\n",
    "        global TOTAL\n",
    "        for i in range(10):\n",
    "            MY_LOCK.acquire()\n",
    "            TOTAL = TOTAL + 1\n",
    "            print(\"exex\", threading.current_thread()._tstate_lock, TOTAL)\n",
    "            MY_LOCK.release()\n",
    "        print('%s\\n' % (TOTAL))\n",
    "\n",
    "a = CountThread()\n",
    "b = CountThread()\n",
    "a.start()\n",
    "b.start()"
   ]
  },
  {
   "cell_type": "code",
   "execution_count": null,
   "metadata": {
    "collapsed": false
   },
   "outputs": [],
   "source": [
    "print(dir(threading.Lock()))"
   ]
  },
  {
   "cell_type": "code",
   "execution_count": null,
   "metadata": {
    "collapsed": false
   },
   "outputs": [],
   "source": [
    "dir(threading.Thread)"
   ]
  },
  {
   "cell_type": "code",
   "execution_count": null,
   "metadata": {
    "collapsed": false
   },
   "outputs": [],
   "source": [
    "help(threading.Lock().locked_lock)"
   ]
  },
  {
   "cell_type": "code",
   "execution_count": null,
   "metadata": {
    "collapsed": false
   },
   "outputs": [],
   "source": [
    "import threading\n",
    "from queue import Queue\n",
    "import time\n",
    "\n",
    "q = Queue() \n",
    "# The worker thread pulls an item from the queue and processes it\n",
    "def worker():\n",
    "    print(\" get thread \", threading.current_thread())\n",
    "    while True:\n",
    "        item = q.get()\n",
    "        print(\" get queue\", item)\n",
    "        q.task_done()\n",
    "               \n",
    "def queue_put() :\n",
    "    print(\" put thread \", threading.current_thread())\n",
    "    for item in range(4):\n",
    "        print(\" put queue\", item)\n",
    "        q.put(item)\n",
    "\n",
    "# Create the queue and thread pool.\n",
    "threads = []\n",
    "for i in range(2):\n",
    "    t = threading.Thread(target=worker)\n",
    "    threads.append(t)\n",
    "    \n",
    "for i in range(2):\n",
    "    t = threading.Thread(target=queue_put)\n",
    "    threads.append(t)\n",
    "    \n",
    "print(threads)\n",
    "for t in threads :\n",
    "    t.start()\n",
    "    if q.full() == True :\n",
    "        print(t,q.queue)\n",
    "\n",
    "q.join()       # block until all tasks are done\n"
   ]
  },
  {
   "cell_type": "code",
   "execution_count": null,
   "metadata": {
    "collapsed": false
   },
   "outputs": [],
   "source": [
    "help(Queue.task_done)"
   ]
  },
  {
   "cell_type": "code",
   "execution_count": null,
   "metadata": {
    "collapsed": false
   },
   "outputs": [],
   "source": [
    "help(Queue.empty)\n",
    "help(Queue.full)\n",
    "help(Queue.join)\n",
    "\"\"\"\n",
    " 'empty',\n",
    " 'full',\n",
    " 'get',\n",
    " 'get_nowait',\n",
    " 'join',\n",
    " 'put',\n",
    " 'put_nowait',\n",
    " 'qsize',\n",
    " 'task_done'\n",
    " \"\"\""
   ]
  },
  {
   "cell_type": "code",
   "execution_count": null,
   "metadata": {
    "collapsed": false
   },
   "outputs": [],
   "source": [
    "from queue import Queue\n",
    "\n",
    "q = Queue()\n",
    "q.put(\"Hello\")\n",
    "print(q.queue)\n",
    "q.put(\"world\")\n",
    "print(q.queue)\n",
    "\n",
    "print(\"queue size \",q.qsize())\n",
    "print( q.get() + ' ' + q.get())\n",
    "print(q.queue)\n",
    "\n",
    "print(q.empty())\n"
   ]
  },
  {
   "cell_type": "code",
   "execution_count": null,
   "metadata": {
    "collapsed": false
   },
   "outputs": [],
   "source": [
    "import threading\n",
    "\n",
    "rl = threading.RLock()\n",
    "print(rl)\n",
    "print(rl.acquire())\n",
    "print(rl.release())"
   ]
  },
  {
   "cell_type": "code",
   "execution_count": null,
   "metadata": {
    "collapsed": false
   },
   "outputs": [],
   "source": [
    "dir(threading.RLock())"
   ]
  },
  {
   "cell_type": "code",
   "execution_count": null,
   "metadata": {
    "collapsed": false
   },
   "outputs": [],
   "source": [
    "import threading\n",
    " \n",
    "total = 0\n",
    "lock = threading.RLock()\n",
    " \n",
    "def do_something():\n",
    "    with lock:\n",
    "        print(lock)\n",
    "    print('repease',lock) \n",
    "    return \"Done doing something\"\n",
    " \n",
    "def do_something_else():\n",
    "    with lock:\n",
    "        print(lock)\n",
    "    print('repease',lock) \n",
    "    return \"Finished something else\"\n",
    " \n",
    "def main():\n",
    "    with lock:\n",
    "        result_one = do_something()\n",
    "        result_two = do_something_else() \n",
    "    print (result_one)\n",
    "    print (result_two)\n",
    "    \n",
    "main()"
   ]
  },
  {
   "cell_type": "code",
   "execution_count": null,
   "metadata": {
    "collapsed": false
   },
   "outputs": [],
   "source": [
    "import threading\n",
    " \n",
    "total = 0\n",
    "lock = threading.RLock()\n",
    " \n",
    "def do_something():\n",
    "    with lock:\n",
    "        print(lock)\n",
    "    print('repease',lock) \n",
    "    return \"Done doing something\"\n",
    " \n",
    "def do_something_else():\n",
    "    with lock:\n",
    "        print(lock)\n",
    "    print('repease',lock) \n",
    "    return \"Finished something else\"\n",
    "\n",
    "def main():\n",
    "    result_one = do_something()\n",
    "    result_two = do_something_else() \n",
    "    print (result_one)\n",
    "    print (result_two)\n",
    "\n",
    "for i in range(2):\n",
    "    my_thread = threading.Thread(target=main)\n",
    "    my_thread.start()"
   ]
  },
  {
   "cell_type": "code",
   "execution_count": null,
   "metadata": {
    "collapsed": false
   },
   "outputs": [],
   "source": [
    "import threading\n",
    " \n",
    "total = 0\n",
    "lock = threading.RLock()\n",
    " \n",
    "def update_total(amount):\n",
    "    \"\"\"\n",
    "    Updates the total by the given amount\n",
    "    \"\"\"\n",
    "    global total\n",
    "    lock.acquire()\n",
    "    try:\n",
    "        total += amount\n",
    "    finally:\n",
    "        lock.release()\n",
    "    print (threading.current_thread(),total)\n",
    "    \n",
    "if __name__ == '__main__':\n",
    "    my_thread = threading.Thread(\n",
    "            target=update_total, args=(5,))\n",
    "    my_thread.start()\n",
    "    "
   ]
  },
  {
   "cell_type": "code",
   "execution_count": null,
   "metadata": {
    "collapsed": false
   },
   "outputs": [],
   "source": [
    "import threading\n",
    " \n",
    "total = 0\n",
    "lock = threading.Lock()\n",
    " \n",
    "def update_total(amount):\n",
    "    \"\"\"\n",
    "    Updates the total by the given amount\n",
    "    \"\"\"\n",
    "    global total\n",
    "    with lock:\n",
    "        total += amount\n",
    "    print (threading.current_thread(),total)\n",
    "\n",
    "    \n",
    "if __name__ == '__main__':\n",
    "    for i in range(10):\n",
    "        my_thread = threading.Thread(\n",
    "            target=update_total, args=(5,))\n",
    "        my_thread.start()"
   ]
  },
  {
   "cell_type": "code",
   "execution_count": 3,
   "metadata": {
    "collapsed": false
   },
   "outputs": [
    {
     "name": "stdout",
     "output_type": "stream",
     "text": [
      "<threading.BoundedSemaphore object at 0x000000000508E518>\n",
      "3\n",
      "True\n",
      "2\n",
      "True\n",
      "1\n",
      "True\n",
      "0\n",
      "None\n",
      "1\n",
      "None\n",
      "2\n",
      "None\n",
      "3\n"
     ]
    },
    {
     "ename": "ValueError",
     "evalue": "Semaphore released too many times",
     "output_type": "error",
     "traceback": [
      "\u001b[0;31m---------------------------------------------------------------------------\u001b[0m",
      "\u001b[0;31mValueError\u001b[0m                                Traceback (most recent call last)",
      "\u001b[0;32m<ipython-input-3-d4004b4c6020>\u001b[0m in \u001b[0;36m<module>\u001b[0;34m()\u001b[0m\n\u001b[1;32m     19\u001b[0m \u001b[0mprint\u001b[0m\u001b[1;33m(\u001b[0m\u001b[0msem\u001b[0m\u001b[1;33m.\u001b[0m\u001b[0mrelease\u001b[0m\u001b[1;33m(\u001b[0m\u001b[1;33m)\u001b[0m\u001b[1;33m)\u001b[0m\u001b[1;33m\u001b[0m\u001b[0m\n\u001b[1;32m     20\u001b[0m \u001b[0mprint\u001b[0m\u001b[1;33m(\u001b[0m\u001b[0msem\u001b[0m\u001b[1;33m.\u001b[0m\u001b[0m_value\u001b[0m\u001b[1;33m)\u001b[0m\u001b[1;33m\u001b[0m\u001b[0m\n\u001b[0;32m---> 21\u001b[0;31m \u001b[0mprint\u001b[0m\u001b[1;33m(\u001b[0m\u001b[0msem\u001b[0m\u001b[1;33m.\u001b[0m\u001b[0mrelease\u001b[0m\u001b[1;33m(\u001b[0m\u001b[1;33m)\u001b[0m\u001b[1;33m)\u001b[0m\u001b[1;33m\u001b[0m\u001b[0m\n\u001b[0m\u001b[1;32m     22\u001b[0m \u001b[0mprint\u001b[0m\u001b[1;33m(\u001b[0m\u001b[0msem\u001b[0m\u001b[1;33m.\u001b[0m\u001b[0m_value\u001b[0m\u001b[1;33m)\u001b[0m\u001b[1;33m\u001b[0m\u001b[0m\n",
      "\u001b[0;32mC:\\Program Files\\Anaconda3\\lib\\threading.py\u001b[0m in \u001b[0;36mrelease\u001b[0;34m(self)\u001b[0m\n\u001b[1;32m    478\u001b[0m         \u001b[1;32mwith\u001b[0m \u001b[0mself\u001b[0m\u001b[1;33m.\u001b[0m\u001b[0m_cond\u001b[0m\u001b[1;33m:\u001b[0m\u001b[1;33m\u001b[0m\u001b[0m\n\u001b[1;32m    479\u001b[0m             \u001b[1;32mif\u001b[0m \u001b[0mself\u001b[0m\u001b[1;33m.\u001b[0m\u001b[0m_value\u001b[0m \u001b[1;33m>=\u001b[0m \u001b[0mself\u001b[0m\u001b[1;33m.\u001b[0m\u001b[0m_initial_value\u001b[0m\u001b[1;33m:\u001b[0m\u001b[1;33m\u001b[0m\u001b[0m\n\u001b[0;32m--> 480\u001b[0;31m                 \u001b[1;32mraise\u001b[0m \u001b[0mValueError\u001b[0m\u001b[1;33m(\u001b[0m\u001b[1;34m\"Semaphore released too many times\"\u001b[0m\u001b[1;33m)\u001b[0m\u001b[1;33m\u001b[0m\u001b[0m\n\u001b[0m\u001b[1;32m    481\u001b[0m             \u001b[0mself\u001b[0m\u001b[1;33m.\u001b[0m\u001b[0m_value\u001b[0m \u001b[1;33m+=\u001b[0m \u001b[1;36m1\u001b[0m\u001b[1;33m\u001b[0m\u001b[0m\n\u001b[1;32m    482\u001b[0m             \u001b[0mself\u001b[0m\u001b[1;33m.\u001b[0m\u001b[0m_cond\u001b[0m\u001b[1;33m.\u001b[0m\u001b[0mnotify\u001b[0m\u001b[1;33m(\u001b[0m\u001b[1;33m)\u001b[0m\u001b[1;33m\u001b[0m\u001b[0m\n",
      "\u001b[0;31mValueError\u001b[0m: Semaphore released too many times"
     ]
    }
   ],
   "source": [
    "import threading\n",
    "\n",
    "sem = threading.BoundedSemaphore(3) \n",
    "\n",
    "print(sem)\n",
    "print(sem._value)\n",
    "\n",
    "print(sem.acquire())\n",
    "print(sem._value)\n",
    "print(sem.acquire())\n",
    "print(sem._value)\n",
    "print(sem.acquire())\n",
    "print(sem._value)\n",
    "\n",
    "print(sem.release())\n",
    "print(sem._value)\n",
    "print(sem.release())\n",
    "print(sem._value)\n",
    "print(sem.release())\n",
    "print(sem._value)\n",
    "print(sem.release())\n",
    "print(sem._value)"
   ]
  },
  {
   "cell_type": "code",
   "execution_count": 1,
   "metadata": {
    "collapsed": false
   },
   "outputs": [
    {
     "name": "stdout",
     "output_type": "stream",
     "text": [
      "2 Threading Semaphore TEST : Thread-6\n",
      "2 Threading Semaphore TEST : Thread-7\n",
      "2 Threading Semaphore TEST : Thread-8\n",
      "2 Threading Semaphore TEST : Thread-9\n",
      "2 Threading Semaphore TEST : Thread-10\n",
      "2 Threading Semaphore TEST : Thread-11\n",
      "2 Threading Semaphore TEST : Thread-12\n",
      "2 Threading Semaphore TEST : Thread-13\n",
      "2 Threading Semaphore TEST : Thread-14\n",
      "2 Threading Semaphore TEST : Thread-15\n",
      "Finish All Threading \n"
     ]
    }
   ],
   "source": [
    " \n",
    "# 100개의 쓰레드 중에 3개의 쓰레드만 작업이 가능하다.\n",
    "\n",
    "import threading\n",
    "\n",
    "# 세마포 객체 생성, 3개의 쓰레드로 제한\n",
    "sem = threading.Semaphore(3)      \n",
    "\n",
    "class RestrictedArea(threading.Thread):\n",
    "    def run(self):\n",
    "        msg = 'Threading Semaphore TEST : %s' % self.getName()\n",
    "        # 3개의 쓰레드만이 존재할수 있는 영역\n",
    "        sem.acquire()\n",
    "        print(sem._value,msg)                \n",
    "        sem.release()              \n",
    "\n",
    "threads = []\n",
    "\n",
    "for i in range(10):\n",
    "    threads.append(RestrictedArea())\n",
    "\n",
    "for th in threads:\n",
    "    th.start()          # 쓰레드 시작\n",
    "\n",
    "for th in threads:\n",
    "    th.join()           # 종료대기\n",
    "\n",
    "print('Finish All Threading ')"
   ]
  },
  {
   "cell_type": "code",
   "execution_count": null,
   "metadata": {
    "collapsed": true
   },
   "outputs": [],
   "source": []
  }
 ],
 "metadata": {
  "anaconda-cloud": {},
  "kernelspec": {
   "display_name": "Python [conda root]",
   "language": "python",
   "name": "conda-root-py"
  },
  "language_info": {
   "codemirror_mode": {
    "name": "ipython",
    "version": 3
   },
   "file_extension": ".py",
   "mimetype": "text/x-python",
   "name": "python",
   "nbconvert_exporter": "python",
   "pygments_lexer": "ipython3",
   "version": "3.5.2"
  }
 },
 "nbformat": 4,
 "nbformat_minor": 1
}
