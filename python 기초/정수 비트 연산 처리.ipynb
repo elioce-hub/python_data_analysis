{
 "cells": [
  {
   "cell_type": "markdown",
   "metadata": {
    "collapsed": true
   },
   "source": [
    "## 정수에 비트 연산\n",
    "\n",
    "    정수는 바로 비트 연산이 가능하도록 지원한다."
   ]
  },
  {
   "cell_type": "code",
   "execution_count": 1,
   "metadata": {
    "collapsed": false
   },
   "outputs": [
    {
     "name": "stdout",
     "output_type": "stream",
     "text": [
      "10\n",
      "0\n"
     ]
    }
   ],
   "source": [
    "x = 10\n",
    "y = 14\n",
    "\n",
    "print(x & y)\n",
    "print(0 & y)"
   ]
  },
  {
   "cell_type": "code",
   "execution_count": 5,
   "metadata": {
    "collapsed": false
   },
   "outputs": [
    {
     "name": "stdout",
     "output_type": "stream",
     "text": [
      "14\n",
      "14\n"
     ]
    }
   ],
   "source": [
    "x = 10\n",
    "y = 14\n",
    "\n",
    "print(x | y)\n",
    "print(0 | y)"
   ]
  },
  {
   "cell_type": "code",
   "execution_count": 12,
   "metadata": {
    "collapsed": false
   },
   "outputs": [
    {
     "name": "stdout",
     "output_type": "stream",
     "text": [
      "40\n",
      "0b1010\n",
      "40\n",
      "28\n",
      "0b1110\n",
      "28\n"
     ]
    }
   ],
   "source": [
    "x = 10\n",
    "y = 14\n",
    "# 두자리 이동\n",
    "print(x << 2)\n",
    "print(bin(x))\n",
    "print(int(0b101000))\n",
    "#한자리 이동\n",
    "print(y << 1)\n",
    "print(bin(y))\n",
    "print(int('11100',2))"
   ]
  },
  {
   "cell_type": "markdown",
   "metadata": {},
   "source": [
    "### 정수에 대한 처리 범위\n"
   ]
  },
  {
   "cell_type": "code",
   "execution_count": 13,
   "metadata": {
    "collapsed": false
   },
   "outputs": [
    {
     "name": "stdout",
     "output_type": "stream",
     "text": [
      "sys.int_info(bits_per_digit=30, sizeof_digit=4)\n"
     ]
    }
   ],
   "source": [
    "import sys\n",
    "\n",
    "print(sys.int_info)"
   ]
  },
  {
   "cell_type": "markdown",
   "metadata": {},
   "source": [
    "## 왜 정수는 런타임에 속성들을 추가하지 못하나\n",
    "\n",
    "    정수의 인스턴스는 __dict__ 이라는 속성이 존재하지 않아 실제 런타입에 속성을 추가할 수 없다.\n",
    "    클래스 int는 __dict__는 존재하지만 클래스 내부에도 속성을 추가할 수 없다.\n",
    "    "
   ]
  },
  {
   "cell_type": "code",
   "execution_count": 15,
   "metadata": {
    "collapsed": false,
    "scrolled": true
   },
   "outputs": [
    {
     "data": {
      "text/plain": [
       "mappingproxy({'__abs__': <slot wrapper '__abs__' of 'int' objects>,\n",
       "              '__add__': <slot wrapper '__add__' of 'int' objects>,\n",
       "              '__and__': <slot wrapper '__and__' of 'int' objects>,\n",
       "              '__bool__': <slot wrapper '__bool__' of 'int' objects>,\n",
       "              '__ceil__': <method '__ceil__' of 'int' objects>,\n",
       "              '__divmod__': <slot wrapper '__divmod__' of 'int' objects>,\n",
       "              '__doc__': \"int(x=0) -> integer\\nint(x, base=10) -> integer\\n\\nConvert a number or string to an integer, or return 0 if no arguments\\nare given.  If x is a number, return x.__int__().  For floating point\\nnumbers, this truncates towards zero.\\n\\nIf x is not a number or if base is given, then x must be a string,\\nbytes, or bytearray instance representing an integer literal in the\\ngiven base.  The literal can be preceded by '+' or '-' and be surrounded\\nby whitespace.  The base defaults to 10.  Valid bases are 0 and 2-36.\\nBase 0 means to interpret the base from the string as an integer literal.\\n>>> int('0b100', base=0)\\n4\",\n",
       "              '__eq__': <slot wrapper '__eq__' of 'int' objects>,\n",
       "              '__float__': <slot wrapper '__float__' of 'int' objects>,\n",
       "              '__floor__': <method '__floor__' of 'int' objects>,\n",
       "              '__floordiv__': <slot wrapper '__floordiv__' of 'int' objects>,\n",
       "              '__format__': <method '__format__' of 'int' objects>,\n",
       "              '__ge__': <slot wrapper '__ge__' of 'int' objects>,\n",
       "              '__getattribute__': <slot wrapper '__getattribute__' of 'int' objects>,\n",
       "              '__getnewargs__': <method '__getnewargs__' of 'int' objects>,\n",
       "              '__gt__': <slot wrapper '__gt__' of 'int' objects>,\n",
       "              '__hash__': <slot wrapper '__hash__' of 'int' objects>,\n",
       "              '__index__': <slot wrapper '__index__' of 'int' objects>,\n",
       "              '__int__': <slot wrapper '__int__' of 'int' objects>,\n",
       "              '__invert__': <slot wrapper '__invert__' of 'int' objects>,\n",
       "              '__le__': <slot wrapper '__le__' of 'int' objects>,\n",
       "              '__lshift__': <slot wrapper '__lshift__' of 'int' objects>,\n",
       "              '__lt__': <slot wrapper '__lt__' of 'int' objects>,\n",
       "              '__mod__': <slot wrapper '__mod__' of 'int' objects>,\n",
       "              '__mul__': <slot wrapper '__mul__' of 'int' objects>,\n",
       "              '__ne__': <slot wrapper '__ne__' of 'int' objects>,\n",
       "              '__neg__': <slot wrapper '__neg__' of 'int' objects>,\n",
       "              '__new__': <function int.__new__>,\n",
       "              '__or__': <slot wrapper '__or__' of 'int' objects>,\n",
       "              '__pos__': <slot wrapper '__pos__' of 'int' objects>,\n",
       "              '__pow__': <slot wrapper '__pow__' of 'int' objects>,\n",
       "              '__radd__': <slot wrapper '__radd__' of 'int' objects>,\n",
       "              '__rand__': <slot wrapper '__rand__' of 'int' objects>,\n",
       "              '__rdivmod__': <slot wrapper '__rdivmod__' of 'int' objects>,\n",
       "              '__repr__': <slot wrapper '__repr__' of 'int' objects>,\n",
       "              '__rfloordiv__': <slot wrapper '__rfloordiv__' of 'int' objects>,\n",
       "              '__rlshift__': <slot wrapper '__rlshift__' of 'int' objects>,\n",
       "              '__rmod__': <slot wrapper '__rmod__' of 'int' objects>,\n",
       "              '__rmul__': <slot wrapper '__rmul__' of 'int' objects>,\n",
       "              '__ror__': <slot wrapper '__ror__' of 'int' objects>,\n",
       "              '__round__': <method '__round__' of 'int' objects>,\n",
       "              '__rpow__': <slot wrapper '__rpow__' of 'int' objects>,\n",
       "              '__rrshift__': <slot wrapper '__rrshift__' of 'int' objects>,\n",
       "              '__rshift__': <slot wrapper '__rshift__' of 'int' objects>,\n",
       "              '__rsub__': <slot wrapper '__rsub__' of 'int' objects>,\n",
       "              '__rtruediv__': <slot wrapper '__rtruediv__' of 'int' objects>,\n",
       "              '__rxor__': <slot wrapper '__rxor__' of 'int' objects>,\n",
       "              '__sizeof__': <method '__sizeof__' of 'int' objects>,\n",
       "              '__str__': <slot wrapper '__str__' of 'int' objects>,\n",
       "              '__sub__': <slot wrapper '__sub__' of 'int' objects>,\n",
       "              '__truediv__': <slot wrapper '__truediv__' of 'int' objects>,\n",
       "              '__trunc__': <method '__trunc__' of 'int' objects>,\n",
       "              '__xor__': <slot wrapper '__xor__' of 'int' objects>,\n",
       "              'bit_length': <method 'bit_length' of 'int' objects>,\n",
       "              'conjugate': <method 'conjugate' of 'int' objects>,\n",
       "              'denominator': <attribute 'denominator' of 'int' objects>,\n",
       "              'from_bytes': <method 'from_bytes' of 'int' objects>,\n",
       "              'imag': <attribute 'imag' of 'int' objects>,\n",
       "              'numerator': <attribute 'numerator' of 'int' objects>,\n",
       "              'real': <attribute 'real' of 'int' objects>,\n",
       "              'to_bytes': <method 'to_bytes' of 'int' objects>})"
      ]
     },
     "execution_count": 15,
     "metadata": {},
     "output_type": "execute_result"
    }
   ],
   "source": [
    "int.__dict__"
   ]
  },
  {
   "cell_type": "markdown",
   "metadata": {},
   "source": [
    "###  int  클래스에도 dict 타입 변경이 불가능하다.\n",
    "\n",
    "    내부에서 __dict__ 내부에 속성을 변경할 메소드는 있지만 실제 처리하지 못하도록 예외를 발생시킨다.\n",
    "    "
   ]
  },
  {
   "cell_type": "code",
   "execution_count": 19,
   "metadata": {
    "collapsed": false
   },
   "outputs": [
    {
     "data": {
      "text/plain": [
       "['__class__',\n",
       " '__contains__',\n",
       " '__delattr__',\n",
       " '__dir__',\n",
       " '__doc__',\n",
       " '__eq__',\n",
       " '__format__',\n",
       " '__ge__',\n",
       " '__getattribute__',\n",
       " '__getitem__',\n",
       " '__gt__',\n",
       " '__hash__',\n",
       " '__init__',\n",
       " '__iter__',\n",
       " '__le__',\n",
       " '__len__',\n",
       " '__lt__',\n",
       " '__ne__',\n",
       " '__new__',\n",
       " '__reduce__',\n",
       " '__reduce_ex__',\n",
       " '__repr__',\n",
       " '__setattr__',\n",
       " '__sizeof__',\n",
       " '__str__',\n",
       " '__subclasshook__',\n",
       " 'copy',\n",
       " 'get',\n",
       " 'items',\n",
       " 'keys',\n",
       " 'values']"
      ]
     },
     "execution_count": 19,
     "metadata": {},
     "output_type": "execute_result"
    }
   ],
   "source": [
    "dir(int.__dict__)"
   ]
  },
  {
   "cell_type": "markdown",
   "metadata": {},
   "source": [
    "###  c 모듈로 작성된 객체에서 __setitem__ 처리를 예외로 발생한다.\n"
   ]
  },
  {
   "cell_type": "code",
   "execution_count": 20,
   "metadata": {
    "collapsed": false
   },
   "outputs": [
    {
     "ename": "AttributeError",
     "evalue": "'mappingproxy' object has no attribute '__setitem__'",
     "output_type": "error",
     "traceback": [
      "\u001b[0;31m---------------------------------------------------------------------------\u001b[0m",
      "\u001b[0;31mAttributeError\u001b[0m                            Traceback (most recent call last)",
      "\u001b[0;32m<ipython-input-20-616b1577b7d1>\u001b[0m in \u001b[0;36m<module>\u001b[0;34m()\u001b[0m\n\u001b[0;32m----> 1\u001b[0;31m \u001b[0mint\u001b[0m\u001b[1;33m.\u001b[0m\u001b[0m__dict__\u001b[0m\u001b[1;33m.\u001b[0m\u001b[0m__setitem__\u001b[0m\u001b[1;33m[\u001b[0m\u001b[1;34m'real'\u001b[0m\u001b[1;33m]\u001b[0m \u001b[1;33m=\u001b[0m \u001b[1;36m100\u001b[0m\u001b[1;33m\u001b[0m\u001b[0m\n\u001b[0m",
      "\u001b[0;31mAttributeError\u001b[0m: 'mappingproxy' object has no attribute '__setitem__'"
     ]
    }
   ],
   "source": [
    "int.__dict__.__setitem__['real'] = 100"
   ]
  },
  {
   "cell_type": "markdown",
   "metadata": {},
   "source": [
    "### 속성을 관리하는 namespace가 존재하지 않음\n",
    "\n",
    "    정수가 생성한 인스턴스 객체에는 속성을 관리하는 namespace 존재하지 않아 런타임에 속성을 추가할 수 없다."
   ]
  },
  {
   "cell_type": "code",
   "execution_count": 16,
   "metadata": {
    "collapsed": false
   },
   "outputs": [
    {
     "ename": "AttributeError",
     "evalue": "'int' object has no attribute '__dict__'",
     "output_type": "error",
     "traceback": [
      "\u001b[0;31m---------------------------------------------------------------------------\u001b[0m",
      "\u001b[0;31mAttributeError\u001b[0m                            Traceback (most recent call last)",
      "\u001b[0;32m<ipython-input-16-d6d48bf11dc5>\u001b[0m in \u001b[0;36m<module>\u001b[0;34m()\u001b[0m\n\u001b[1;32m      1\u001b[0m \u001b[0ma\u001b[0m \u001b[1;33m=\u001b[0m \u001b[0mint\u001b[0m\u001b[1;33m(\u001b[0m\u001b[1;36m1\u001b[0m\u001b[1;33m)\u001b[0m\u001b[1;33m\u001b[0m\u001b[0m\n\u001b[1;32m      2\u001b[0m \u001b[1;33m\u001b[0m\u001b[0m\n\u001b[0;32m----> 3\u001b[0;31m \u001b[0ma\u001b[0m\u001b[1;33m.\u001b[0m\u001b[0m__dict__\u001b[0m\u001b[1;33m\u001b[0m\u001b[0m\n\u001b[0m",
      "\u001b[0;31mAttributeError\u001b[0m: 'int' object has no attribute '__dict__'"
     ]
    }
   ],
   "source": [
    "a = int(1)\n",
    "\n",
    "a.__dict__"
   ]
  },
  {
   "cell_type": "markdown",
   "metadata": {},
   "source": [
    "###  namespace 는 딕셔너리 클래스\n",
    "\n",
    "    __dict__는 딕셔너리 클래스를 사용해서 처리한다. \n",
    "    실제 키는 변수이고 이에 해당하는 c 모듈에 대한 것을 wrapper로 묶어서 처리해 준다.\n",
    "    "
   ]
  },
  {
   "cell_type": "code",
   "execution_count": 21,
   "metadata": {
    "collapsed": false
   },
   "outputs": [
    {
     "data": {
      "text/plain": [
       "dict_items([('__ror__', <slot wrapper '__ror__' of 'int' objects>), ('__bool__', <slot wrapper '__bool__' of 'int' objects>), ('bit_length', <method 'bit_length' of 'int' objects>), ('__lshift__', <slot wrapper '__lshift__' of 'int' objects>), ('__gt__', <slot wrapper '__gt__' of 'int' objects>), ('__rpow__', <slot wrapper '__rpow__' of 'int' objects>), ('__sub__', <slot wrapper '__sub__' of 'int' objects>), ('__rmul__', <slot wrapper '__rmul__' of 'int' objects>), ('__eq__', <slot wrapper '__eq__' of 'int' objects>), ('__ceil__', <method '__ceil__' of 'int' objects>), ('__le__', <slot wrapper '__le__' of 'int' objects>), ('__xor__', <slot wrapper '__xor__' of 'int' objects>), ('__truediv__', <slot wrapper '__truediv__' of 'int' objects>), ('__rmod__', <slot wrapper '__rmod__' of 'int' objects>), ('__mod__', <slot wrapper '__mod__' of 'int' objects>), ('__and__', <slot wrapper '__and__' of 'int' objects>), ('__divmod__', <slot wrapper '__divmod__' of 'int' objects>), ('imag', <attribute 'imag' of 'int' objects>), ('__mul__', <slot wrapper '__mul__' of 'int' objects>), ('__ge__', <slot wrapper '__ge__' of 'int' objects>), ('__floordiv__', <slot wrapper '__floordiv__' of 'int' objects>), ('__rfloordiv__', <slot wrapper '__rfloordiv__' of 'int' objects>), ('__rshift__', <slot wrapper '__rshift__' of 'int' objects>), ('__rrshift__', <slot wrapper '__rrshift__' of 'int' objects>), ('__float__', <slot wrapper '__float__' of 'int' objects>), ('__floor__', <method '__floor__' of 'int' objects>), ('__add__', <slot wrapper '__add__' of 'int' objects>), ('__rlshift__', <slot wrapper '__rlshift__' of 'int' objects>), ('__format__', <method '__format__' of 'int' objects>), ('to_bytes', <method 'to_bytes' of 'int' objects>), ('__pow__', <slot wrapper '__pow__' of 'int' objects>), ('__trunc__', <method '__trunc__' of 'int' objects>), ('__or__', <slot wrapper '__or__' of 'int' objects>), ('__sizeof__', <method '__sizeof__' of 'int' objects>), ('__radd__', <slot wrapper '__radd__' of 'int' objects>), ('__rand__', <slot wrapper '__rand__' of 'int' objects>), ('__round__', <method '__round__' of 'int' objects>), ('__hash__', <slot wrapper '__hash__' of 'int' objects>), ('from_bytes', <method 'from_bytes' of 'int' objects>), ('denominator', <attribute 'denominator' of 'int' objects>), ('__str__', <slot wrapper '__str__' of 'int' objects>), ('conjugate', <method 'conjugate' of 'int' objects>), ('__abs__', <slot wrapper '__abs__' of 'int' objects>), ('__rtruediv__', <slot wrapper '__rtruediv__' of 'int' objects>), ('__rdivmod__', <slot wrapper '__rdivmod__' of 'int' objects>), ('__getattribute__', <slot wrapper '__getattribute__' of 'int' objects>), ('numerator', <attribute 'numerator' of 'int' objects>), ('__invert__', <slot wrapper '__invert__' of 'int' objects>), ('__int__', <slot wrapper '__int__' of 'int' objects>), ('__index__', <slot wrapper '__index__' of 'int' objects>), ('__repr__', <slot wrapper '__repr__' of 'int' objects>), ('__rxor__', <slot wrapper '__rxor__' of 'int' objects>), ('__new__', <built-in method __new__ of type object at 0x000000005B176D60>), ('__ne__', <slot wrapper '__ne__' of 'int' objects>), ('__doc__', \"int(x=0) -> integer\\nint(x, base=10) -> integer\\n\\nConvert a number or string to an integer, or return 0 if no arguments\\nare given.  If x is a number, return x.__int__().  For floating point\\nnumbers, this truncates towards zero.\\n\\nIf x is not a number or if base is given, then x must be a string,\\nbytes, or bytearray instance representing an integer literal in the\\ngiven base.  The literal can be preceded by '+' or '-' and be surrounded\\nby whitespace.  The base defaults to 10.  Valid bases are 0 and 2-36.\\nBase 0 means to interpret the base from the string as an integer literal.\\n>>> int('0b100', base=0)\\n4\"), ('__rsub__', <slot wrapper '__rsub__' of 'int' objects>), ('__pos__', <slot wrapper '__pos__' of 'int' objects>), ('real', <attribute 'real' of 'int' objects>), ('__neg__', <slot wrapper '__neg__' of 'int' objects>), ('__getnewargs__', <method '__getnewargs__' of 'int' objects>), ('__lt__', <slot wrapper '__lt__' of 'int' objects>)])"
      ]
     },
     "execution_count": 21,
     "metadata": {},
     "output_type": "execute_result"
    }
   ],
   "source": [
    "int.__dict__.items()"
   ]
  },
  {
   "cell_type": "code",
   "execution_count": null,
   "metadata": {
    "collapsed": true
   },
   "outputs": [],
   "source": []
  }
 ],
 "metadata": {
  "kernelspec": {
   "display_name": "Python [conda root]",
   "language": "python",
   "name": "conda-root-py"
  },
  "language_info": {
   "codemirror_mode": {
    "name": "ipython",
    "version": 3
   },
   "file_extension": ".py",
   "mimetype": "text/x-python",
   "name": "python",
   "nbconvert_exporter": "python",
   "pygments_lexer": "ipython3",
   "version": "3.5.2"
  }
 },
 "nbformat": 4,
 "nbformat_minor": 0
}
